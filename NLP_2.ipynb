{
  "nbformat": 4,
  "nbformat_minor": 0,
  "metadata": {
    "colab": {
      "provenance": [],
      "authorship_tag": "ABX9TyN5hdM3iutVMYcqA5MfbwU7",
      "include_colab_link": true
    },
    "kernelspec": {
      "name": "python3",
      "display_name": "Python 3"
    },
    "language_info": {
      "name": "python"
    }
  },
  "cells": [
    {
      "cell_type": "markdown",
      "metadata": {
        "id": "view-in-github",
        "colab_type": "text"
      },
      "source": [
        "<a href=\"https://colab.research.google.com/github/GaurangRawat/NLP/blob/main/NLP_2.ipynb\" target=\"_parent\"><img src=\"https://colab.research.google.com/assets/colab-badge.svg\" alt=\"Open In Colab\"/></a>"
      ]
    },
    {
      "cell_type": "code",
      "execution_count": 1,
      "metadata": {
        "colab": {
          "base_uri": "https://localhost:8080/"
        },
        "id": "MnGS2Tj7JIUW",
        "outputId": "f8b48f33-a8f7-400e-92db-9bc45bcc20b3"
      },
      "outputs": [
        {
          "output_type": "stream",
          "name": "stdout",
          "text": [
            "Requirement already satisfied: nltk in /usr/local/lib/python3.10/dist-packages (3.9.1)\n",
            "Requirement already satisfied: click in /usr/local/lib/python3.10/dist-packages (from nltk) (8.1.7)\n",
            "Requirement already satisfied: joblib in /usr/local/lib/python3.10/dist-packages (from nltk) (1.4.2)\n",
            "Requirement already satisfied: regex>=2021.8.3 in /usr/local/lib/python3.10/dist-packages (from nltk) (2024.11.6)\n",
            "Requirement already satisfied: tqdm in /usr/local/lib/python3.10/dist-packages (from nltk) (4.67.1)\n"
          ]
        }
      ],
      "source": [
        "!pip install nltk"
      ]
    },
    {
      "cell_type": "code",
      "source": [
        "paragraph = \"\"\"\n",
        "Narendra Damodardas Modi (Gujarati: [ˈnarendra ˈdamodar 'das ˈmodiː] (listen); born 17 September 1950) is an Indian politician serving as the 14th and current prime minister of India since 2014. Modi was the chief minister of Gujarat from 2001 to 2014 and is the Member of Parliament from Varanasi. He is a member of the Bharatiya Janata Party (BJP) and of the Rashtriya Swayamsevak Sangh (RSS), a right-wing Hindu nationalist paramilitary volunteer organisation. He is the first prime minister to have been born after India’s independence in 1947 and the second prime minister not belonging to the Indian National Congress to have won two consecutive majorities in the Lok Sabha, or the lower house of India’s parliament. He is also the longest-serving prime minister from a non-Congress party.\n",
        "\n",
        "Born and raised in Vadnagar, a small town in northeastern Gujarat, Modi completed his secondary education there. He was introduced to the RSS at age eight. He has drawn attention to having to work as a child in his father’s tea stall on the Vadnagar railway station platform, a description that has not been reliably corroborated. At age 18, Modi was married to Jashodaben Chimanlal Modi, whom he abandoned soon after. He left his parental home where she had come to live. He first publicly acknowledged her as his wife more than four decades later when required to do so by Indian law, but has made no contact with her since. Modi has asserted he had traveled in northern India for two years after leaving his parental home, visiting a number of religious centres, but few details of his travels have emerged. Upon his return to Gujarat in 1971, he became a full-time worker for the RSS. After the state of emergency was declared by prime minister Indira Gandhi in 1975, Modi went into hiding. The RSS assigned him to the BJP in 1985 and he held several positions within the party hierarchy until 2001, rising to the rank of general secretary.\n",
        "\"\"\""
      ],
      "metadata": {
        "id": "Np7gIuiAJNsb"
      },
      "execution_count": 2,
      "outputs": []
    },
    {
      "cell_type": "code",
      "source": [
        "paragraph"
      ],
      "metadata": {
        "colab": {
          "base_uri": "https://localhost:8080/",
          "height": 244
        },
        "id": "eMRlSAGLMRfk",
        "outputId": "8bfb969e-9eb4-4c79-df5a-d5cd771074c0"
      },
      "execution_count": 3,
      "outputs": [
        {
          "output_type": "execute_result",
          "data": {
            "text/plain": [
              "\"\\nNarendra Damodardas Modi (Gujarati: [ˈnarendra ˈdamodar 'das ˈmodiː] (listen); born 17 September 1950) is an Indian politician serving as the 14th and current prime minister of India since 2014. Modi was the chief minister of Gujarat from 2001 to 2014 and is the Member of Parliament from Varanasi. He is a member of the Bharatiya Janata Party (BJP) and of the Rashtriya Swayamsevak Sangh (RSS), a right-wing Hindu nationalist paramilitary volunteer organisation. He is the first prime minister to have been born after India’s independence in 1947 and the second prime minister not belonging to the Indian National Congress to have won two consecutive majorities in the Lok Sabha, or the lower house of India’s parliament. He is also the longest-serving prime minister from a non-Congress party.\\n\\nBorn and raised in Vadnagar, a small town in northeastern Gujarat, Modi completed his secondary education there. He was introduced to the RSS at age eight. He has drawn attention to having to work as a child in his father’s tea stall on the Vadnagar railway station platform, a description that has not been reliably corroborated. At age 18, Modi was married to Jashodaben Chimanlal Modi, whom he abandoned soon after. He left his parental home where she had come to live. He first publicly acknowledged her as his wife more than four decades later when required to do so by Indian law, but has made no contact with her since. Modi has asserted he had traveled in northern India for two years after leaving his parental home, visiting a number of religious centres, but few details of his travels have emerged. Upon his return to Gujarat in 1971, he became a full-time worker for the RSS. After the state of emergency was declared by prime minister Indira Gandhi in 1975, Modi went into hiding. The RSS assigned him to the BJP in 1985 and he held several positions within the party hierarchy until 2001, rising to the rank of general secretary.\\n\""
            ],
            "application/vnd.google.colaboratory.intrinsic+json": {
              "type": "string"
            }
          },
          "metadata": {},
          "execution_count": 3
        }
      ]
    },
    {
      "cell_type": "code",
      "source": [
        "import nltk\n",
        "from nltk.stem import PorterStemmer\n",
        "from nltk.corpus import stopwords"
      ],
      "metadata": {
        "id": "jcS-TdB6MTX9"
      },
      "execution_count": 4,
      "outputs": []
    },
    {
      "cell_type": "code",
      "source": [
        "## tokenization: converts paragraph-sentences-words\n",
        "nltk.download('punkt_tab')\n",
        "nltk.download('stopwords')\n",
        "sentences=nltk.sent_tokenize(paragraph)"
      ],
      "metadata": {
        "colab": {
          "base_uri": "https://localhost:8080/"
        },
        "id": "Mo-IeA1PMulR",
        "outputId": "907b599e-fe31-46d9-895c-28a1023fcef1"
      },
      "execution_count": 5,
      "outputs": [
        {
          "output_type": "stream",
          "name": "stderr",
          "text": [
            "[nltk_data] Downloading package punkt_tab to /root/nltk_data...\n",
            "[nltk_data]   Unzipping tokenizers/punkt_tab.zip.\n",
            "[nltk_data] Downloading package stopwords to /root/nltk_data...\n",
            "[nltk_data]   Unzipping corpora/stopwords.zip.\n"
          ]
        }
      ]
    },
    {
      "cell_type": "code",
      "source": [
        "print(sentences)"
      ],
      "metadata": {
        "colab": {
          "base_uri": "https://localhost:8080/"
        },
        "id": "S9lhXAJxNG9N",
        "outputId": "be0dac02-266c-4f6c-fe1e-c48cd6db2e22"
      },
      "execution_count": 6,
      "outputs": [
        {
          "output_type": "stream",
          "name": "stdout",
          "text": [
            "[\"\\nNarendra Damodardas Modi (Gujarati: [ˈnarendra ˈdamodar 'das ˈmodiː] (listen); born 17 September 1950) is an Indian politician serving as the 14th and current prime minister of India since 2014.\", 'Modi was the chief minister of Gujarat from 2001 to 2014 and is the Member of Parliament from Varanasi.', 'He is a member of the Bharatiya Janata Party (BJP) and of the Rashtriya Swayamsevak Sangh (RSS), a right-wing Hindu nationalist paramilitary volunteer organisation.', 'He is the first prime minister to have been born after India’s independence in 1947 and the second prime minister not belonging to the Indian National Congress to have won two consecutive majorities in the Lok Sabha, or the lower house of India’s parliament.', 'He is also the longest-serving prime minister from a non-Congress party.', 'Born and raised in Vadnagar, a small town in northeastern Gujarat, Modi completed his secondary education there.', 'He was introduced to the RSS at age eight.', 'He has drawn attention to having to work as a child in his father’s tea stall on the Vadnagar railway station platform, a description that has not been reliably corroborated.', 'At age 18, Modi was married to Jashodaben Chimanlal Modi, whom he abandoned soon after.', 'He left his parental home where she had come to live.', 'He first publicly acknowledged her as his wife more than four decades later when required to do so by Indian law, but has made no contact with her since.', 'Modi has asserted he had traveled in northern India for two years after leaving his parental home, visiting a number of religious centres, but few details of his travels have emerged.', 'Upon his return to Gujarat in 1971, he became a full-time worker for the RSS.', 'After the state of emergency was declared by prime minister Indira Gandhi in 1975, Modi went into hiding.', 'The RSS assigned him to the BJP in 1985 and he held several positions within the party hierarchy until 2001, rising to the rank of general secretary.']\n"
          ]
        }
      ]
    },
    {
      "cell_type": "code",
      "source": [
        "stemmer=PorterStemmer()"
      ],
      "metadata": {
        "id": "vmWLjI69NYlC"
      },
      "execution_count": 7,
      "outputs": []
    },
    {
      "cell_type": "code",
      "source": [
        "stemmer.stem('thinking')"
      ],
      "metadata": {
        "colab": {
          "base_uri": "https://localhost:8080/",
          "height": 36
        },
        "id": "rSUcH_ufNjbo",
        "outputId": "df8f9d8c-efd2-46b6-d08e-e8c0882ee882"
      },
      "execution_count": 8,
      "outputs": [
        {
          "output_type": "execute_result",
          "data": {
            "text/plain": [
              "'think'"
            ],
            "application/vnd.google.colaboratory.intrinsic+json": {
              "type": "string"
            }
          },
          "metadata": {},
          "execution_count": 8
        }
      ]
    },
    {
      "cell_type": "code",
      "source": [
        "from nltk.stem import WordNetLemmatizer\n",
        "nltk.download('wordnet')"
      ],
      "metadata": {
        "colab": {
          "base_uri": "https://localhost:8080/"
        },
        "id": "HxyUpdFrN5FP",
        "outputId": "5e3860dc-b8aa-4dae-f67f-a34d4f1b4beb"
      },
      "execution_count": 9,
      "outputs": [
        {
          "output_type": "stream",
          "name": "stderr",
          "text": [
            "[nltk_data] Downloading package wordnet to /root/nltk_data...\n"
          ]
        },
        {
          "output_type": "execute_result",
          "data": {
            "text/plain": [
              "True"
            ]
          },
          "metadata": {},
          "execution_count": 9
        }
      ]
    },
    {
      "cell_type": "code",
      "source": [
        "lemmatizer=WordNetLemmatizer()"
      ],
      "metadata": {
        "id": "V7aIHOWQOR36"
      },
      "execution_count": 10,
      "outputs": []
    },
    {
      "cell_type": "code",
      "source": [
        "lemmatizer.lemmatize('goes')"
      ],
      "metadata": {
        "colab": {
          "base_uri": "https://localhost:8080/",
          "height": 36
        },
        "id": "O8-gzoyOOdqC",
        "outputId": "081465d1-ab07-4986-ef9e-a1b6ef9428b5"
      },
      "execution_count": 11,
      "outputs": [
        {
          "output_type": "execute_result",
          "data": {
            "text/plain": [
              "'go'"
            ],
            "application/vnd.google.colaboratory.intrinsic+json": {
              "type": "string"
            }
          },
          "metadata": {},
          "execution_count": 11
        }
      ]
    },
    {
      "cell_type": "code",
      "source": [
        "len(sentences)"
      ],
      "metadata": {
        "colab": {
          "base_uri": "https://localhost:8080/"
        },
        "id": "eC2uQNCzP0ay",
        "outputId": "719a28be-38fb-45b6-a4b9-2e4d06cb0856"
      },
      "execution_count": 12,
      "outputs": [
        {
          "output_type": "execute_result",
          "data": {
            "text/plain": [
              "15"
            ]
          },
          "metadata": {},
          "execution_count": 12
        }
      ]
    },
    {
      "cell_type": "code",
      "source": [
        "import re\n",
        "corpus=[]\n",
        "for i in range(len(sentences)):\n",
        "  review=re.sub('[^a-zA-Z]',' ',sentences[i])\n",
        "  review=review.lower()\n",
        "  corpus.append(review)"
      ],
      "metadata": {
        "id": "W_Ai9sChOftG"
      },
      "execution_count": 13,
      "outputs": []
    },
    {
      "cell_type": "code",
      "source": [
        "corpus"
      ],
      "metadata": {
        "colab": {
          "base_uri": "https://localhost:8080/"
        },
        "id": "gFEmvxSTPohj",
        "outputId": "999cc769-94f8-4db9-ea90-fa854a2a2122"
      },
      "execution_count": 14,
      "outputs": [
        {
          "output_type": "execute_result",
          "data": {
            "text/plain": [
              "[' narendra damodardas modi  gujarati    narendra  damodar  das  modi    listen   born    september       is an indian politician serving as the   th and current prime minister of india since      ',\n",
              " 'modi was the chief minister of gujarat from      to      and is the member of parliament from varanasi ',\n",
              " 'he is a member of the bharatiya janata party  bjp  and of the rashtriya swayamsevak sangh  rss   a right wing hindu nationalist paramilitary volunteer organisation ',\n",
              " 'he is the first prime minister to have been born after india s independence in      and the second prime minister not belonging to the indian national congress to have won two consecutive majorities in the lok sabha  or the lower house of india s parliament ',\n",
              " 'he is also the longest serving prime minister from a non congress party ',\n",
              " 'born and raised in vadnagar  a small town in northeastern gujarat  modi completed his secondary education there ',\n",
              " 'he was introduced to the rss at age eight ',\n",
              " 'he has drawn attention to having to work as a child in his father s tea stall on the vadnagar railway station platform  a description that has not been reliably corroborated ',\n",
              " 'at age     modi was married to jashodaben chimanlal modi  whom he abandoned soon after ',\n",
              " 'he left his parental home where she had come to live ',\n",
              " 'he first publicly acknowledged her as his wife more than four decades later when required to do so by indian law  but has made no contact with her since ',\n",
              " 'modi has asserted he had traveled in northern india for two years after leaving his parental home  visiting a number of religious centres  but few details of his travels have emerged ',\n",
              " 'upon his return to gujarat in       he became a full time worker for the rss ',\n",
              " 'after the state of emergency was declared by prime minister indira gandhi in       modi went into hiding ',\n",
              " 'the rss assigned him to the bjp in      and he held several positions within the party hierarchy until       rising to the rank of general secretary ']"
            ]
          },
          "metadata": {},
          "execution_count": 14
        }
      ]
    },
    {
      "cell_type": "code",
      "source": [
        "stopwords.words('english')"
      ],
      "metadata": {
        "colab": {
          "base_uri": "https://localhost:8080/"
        },
        "id": "wiC_BgPAbe-7",
        "outputId": "8d559075-522e-4065-ef10-3957544bb6ed"
      },
      "execution_count": 15,
      "outputs": [
        {
          "output_type": "execute_result",
          "data": {
            "text/plain": [
              "['i',\n",
              " 'me',\n",
              " 'my',\n",
              " 'myself',\n",
              " 'we',\n",
              " 'our',\n",
              " 'ours',\n",
              " 'ourselves',\n",
              " 'you',\n",
              " \"you're\",\n",
              " \"you've\",\n",
              " \"you'll\",\n",
              " \"you'd\",\n",
              " 'your',\n",
              " 'yours',\n",
              " 'yourself',\n",
              " 'yourselves',\n",
              " 'he',\n",
              " 'him',\n",
              " 'his',\n",
              " 'himself',\n",
              " 'she',\n",
              " \"she's\",\n",
              " 'her',\n",
              " 'hers',\n",
              " 'herself',\n",
              " 'it',\n",
              " \"it's\",\n",
              " 'its',\n",
              " 'itself',\n",
              " 'they',\n",
              " 'them',\n",
              " 'their',\n",
              " 'theirs',\n",
              " 'themselves',\n",
              " 'what',\n",
              " 'which',\n",
              " 'who',\n",
              " 'whom',\n",
              " 'this',\n",
              " 'that',\n",
              " \"that'll\",\n",
              " 'these',\n",
              " 'those',\n",
              " 'am',\n",
              " 'is',\n",
              " 'are',\n",
              " 'was',\n",
              " 'were',\n",
              " 'be',\n",
              " 'been',\n",
              " 'being',\n",
              " 'have',\n",
              " 'has',\n",
              " 'had',\n",
              " 'having',\n",
              " 'do',\n",
              " 'does',\n",
              " 'did',\n",
              " 'doing',\n",
              " 'a',\n",
              " 'an',\n",
              " 'the',\n",
              " 'and',\n",
              " 'but',\n",
              " 'if',\n",
              " 'or',\n",
              " 'because',\n",
              " 'as',\n",
              " 'until',\n",
              " 'while',\n",
              " 'of',\n",
              " 'at',\n",
              " 'by',\n",
              " 'for',\n",
              " 'with',\n",
              " 'about',\n",
              " 'against',\n",
              " 'between',\n",
              " 'into',\n",
              " 'through',\n",
              " 'during',\n",
              " 'before',\n",
              " 'after',\n",
              " 'above',\n",
              " 'below',\n",
              " 'to',\n",
              " 'from',\n",
              " 'up',\n",
              " 'down',\n",
              " 'in',\n",
              " 'out',\n",
              " 'on',\n",
              " 'off',\n",
              " 'over',\n",
              " 'under',\n",
              " 'again',\n",
              " 'further',\n",
              " 'then',\n",
              " 'once',\n",
              " 'here',\n",
              " 'there',\n",
              " 'when',\n",
              " 'where',\n",
              " 'why',\n",
              " 'how',\n",
              " 'all',\n",
              " 'any',\n",
              " 'both',\n",
              " 'each',\n",
              " 'few',\n",
              " 'more',\n",
              " 'most',\n",
              " 'other',\n",
              " 'some',\n",
              " 'such',\n",
              " 'no',\n",
              " 'nor',\n",
              " 'not',\n",
              " 'only',\n",
              " 'own',\n",
              " 'same',\n",
              " 'so',\n",
              " 'than',\n",
              " 'too',\n",
              " 'very',\n",
              " 's',\n",
              " 't',\n",
              " 'can',\n",
              " 'will',\n",
              " 'just',\n",
              " 'don',\n",
              " \"don't\",\n",
              " 'should',\n",
              " \"should've\",\n",
              " 'now',\n",
              " 'd',\n",
              " 'll',\n",
              " 'm',\n",
              " 'o',\n",
              " 're',\n",
              " 've',\n",
              " 'y',\n",
              " 'ain',\n",
              " 'aren',\n",
              " \"aren't\",\n",
              " 'couldn',\n",
              " \"couldn't\",\n",
              " 'didn',\n",
              " \"didn't\",\n",
              " 'doesn',\n",
              " \"doesn't\",\n",
              " 'hadn',\n",
              " \"hadn't\",\n",
              " 'hasn',\n",
              " \"hasn't\",\n",
              " 'haven',\n",
              " \"haven't\",\n",
              " 'isn',\n",
              " \"isn't\",\n",
              " 'ma',\n",
              " 'mightn',\n",
              " \"mightn't\",\n",
              " 'mustn',\n",
              " \"mustn't\",\n",
              " 'needn',\n",
              " \"needn't\",\n",
              " 'shan',\n",
              " \"shan't\",\n",
              " 'shouldn',\n",
              " \"shouldn't\",\n",
              " 'wasn',\n",
              " \"wasn't\",\n",
              " 'weren',\n",
              " \"weren't\",\n",
              " 'won',\n",
              " \"won't\",\n",
              " 'wouldn',\n",
              " \"wouldn't\"]"
            ]
          },
          "metadata": {},
          "execution_count": 15
        }
      ]
    },
    {
      "cell_type": "code",
      "source": [
        "## stemming\n",
        "for i in corpus:\n",
        "  words=nltk.word_tokenize(i)\n",
        "  for word in words:\n",
        "    if word not in set(stopwords.words('english')):\n",
        "      print(stemmer.stem(word))"
      ],
      "metadata": {
        "colab": {
          "base_uri": "https://localhost:8080/"
        },
        "id": "GmO_bR6CQxsv",
        "outputId": "c80da5ce-7108-48fb-e590-e9cc0fa02805"
      },
      "execution_count": 16,
      "outputs": [
        {
          "output_type": "stream",
          "name": "stdout",
          "text": [
            "narendra\n",
            "damodarda\n",
            "modi\n",
            "gujarati\n",
            "narendra\n",
            "damodar\n",
            "da\n",
            "modi\n",
            "listen\n",
            "born\n",
            "septemb\n",
            "indian\n",
            "politician\n",
            "serv\n",
            "th\n",
            "current\n",
            "prime\n",
            "minist\n",
            "india\n",
            "sinc\n",
            "modi\n",
            "chief\n",
            "minist\n",
            "gujarat\n",
            "member\n",
            "parliament\n",
            "varanasi\n",
            "member\n",
            "bharatiya\n",
            "janata\n",
            "parti\n",
            "bjp\n",
            "rashtriya\n",
            "swayamsevak\n",
            "sangh\n",
            "rss\n",
            "right\n",
            "wing\n",
            "hindu\n",
            "nationalist\n",
            "paramilitari\n",
            "volunt\n",
            "organis\n",
            "first\n",
            "prime\n",
            "minist\n",
            "born\n",
            "india\n",
            "independ\n",
            "second\n",
            "prime\n",
            "minist\n",
            "belong\n",
            "indian\n",
            "nation\n",
            "congress\n",
            "two\n",
            "consecut\n",
            "major\n",
            "lok\n",
            "sabha\n",
            "lower\n",
            "hous\n",
            "india\n",
            "parliament\n",
            "also\n",
            "longest\n",
            "serv\n",
            "prime\n",
            "minist\n",
            "non\n",
            "congress\n",
            "parti\n",
            "born\n",
            "rais\n",
            "vadnagar\n",
            "small\n",
            "town\n",
            "northeastern\n",
            "gujarat\n",
            "modi\n",
            "complet\n",
            "secondari\n",
            "educ\n",
            "introduc\n",
            "rss\n",
            "age\n",
            "eight\n",
            "drawn\n",
            "attent\n",
            "work\n",
            "child\n",
            "father\n",
            "tea\n",
            "stall\n",
            "vadnagar\n",
            "railway\n",
            "station\n",
            "platform\n",
            "descript\n",
            "reliabl\n",
            "corrobor\n",
            "age\n",
            "modi\n",
            "marri\n",
            "jashodaben\n",
            "chimanl\n",
            "modi\n",
            "abandon\n",
            "soon\n",
            "left\n",
            "parent\n",
            "home\n",
            "come\n",
            "live\n",
            "first\n",
            "publicli\n",
            "acknowledg\n",
            "wife\n",
            "four\n",
            "decad\n",
            "later\n",
            "requir\n",
            "indian\n",
            "law\n",
            "made\n",
            "contact\n",
            "sinc\n",
            "modi\n",
            "assert\n",
            "travel\n",
            "northern\n",
            "india\n",
            "two\n",
            "year\n",
            "leav\n",
            "parent\n",
            "home\n",
            "visit\n",
            "number\n",
            "religi\n",
            "centr\n",
            "detail\n",
            "travel\n",
            "emerg\n",
            "upon\n",
            "return\n",
            "gujarat\n",
            "becam\n",
            "full\n",
            "time\n",
            "worker\n",
            "rss\n",
            "state\n",
            "emerg\n",
            "declar\n",
            "prime\n",
            "minist\n",
            "indira\n",
            "gandhi\n",
            "modi\n",
            "went\n",
            "hide\n",
            "rss\n",
            "assign\n",
            "bjp\n",
            "held\n",
            "sever\n",
            "posit\n",
            "within\n",
            "parti\n",
            "hierarchi\n",
            "rise\n",
            "rank\n",
            "gener\n",
            "secretari\n"
          ]
        }
      ]
    },
    {
      "cell_type": "code",
      "source": [
        "# lemmatization\n",
        "for i in corpus:\n",
        "  words=nltk.word_tokenize(i)\n",
        "  for word in words:\n",
        "    if word not in set(stopwords.words('english')):\n",
        "      print(lemmatizer.lemmatize(word) )"
      ],
      "metadata": {
        "colab": {
          "base_uri": "https://localhost:8080/"
        },
        "id": "1PLrq7ECbCfq",
        "outputId": "a474c693-6def-4546-d89b-2efb3c8e464b"
      },
      "execution_count": 17,
      "outputs": [
        {
          "output_type": "stream",
          "name": "stdout",
          "text": [
            "narendra\n",
            "damodardas\n",
            "modi\n",
            "gujarati\n",
            "narendra\n",
            "damodar\n",
            "da\n",
            "modi\n",
            "listen\n",
            "born\n",
            "september\n",
            "indian\n",
            "politician\n",
            "serving\n",
            "th\n",
            "current\n",
            "prime\n",
            "minister\n",
            "india\n",
            "since\n",
            "modi\n",
            "chief\n",
            "minister\n",
            "gujarat\n",
            "member\n",
            "parliament\n",
            "varanasi\n",
            "member\n",
            "bharatiya\n",
            "janata\n",
            "party\n",
            "bjp\n",
            "rashtriya\n",
            "swayamsevak\n",
            "sangh\n",
            "rss\n",
            "right\n",
            "wing\n",
            "hindu\n",
            "nationalist\n",
            "paramilitary\n",
            "volunteer\n",
            "organisation\n",
            "first\n",
            "prime\n",
            "minister\n",
            "born\n",
            "india\n",
            "independence\n",
            "second\n",
            "prime\n",
            "minister\n",
            "belonging\n",
            "indian\n",
            "national\n",
            "congress\n",
            "two\n",
            "consecutive\n",
            "majority\n",
            "lok\n",
            "sabha\n",
            "lower\n",
            "house\n",
            "india\n",
            "parliament\n",
            "also\n",
            "longest\n",
            "serving\n",
            "prime\n",
            "minister\n",
            "non\n",
            "congress\n",
            "party\n",
            "born\n",
            "raised\n",
            "vadnagar\n",
            "small\n",
            "town\n",
            "northeastern\n",
            "gujarat\n",
            "modi\n",
            "completed\n",
            "secondary\n",
            "education\n",
            "introduced\n",
            "rss\n",
            "age\n",
            "eight\n",
            "drawn\n",
            "attention\n",
            "work\n",
            "child\n",
            "father\n",
            "tea\n",
            "stall\n",
            "vadnagar\n",
            "railway\n",
            "station\n",
            "platform\n",
            "description\n",
            "reliably\n",
            "corroborated\n",
            "age\n",
            "modi\n",
            "married\n",
            "jashodaben\n",
            "chimanlal\n",
            "modi\n",
            "abandoned\n",
            "soon\n",
            "left\n",
            "parental\n",
            "home\n",
            "come\n",
            "live\n",
            "first\n",
            "publicly\n",
            "acknowledged\n",
            "wife\n",
            "four\n",
            "decade\n",
            "later\n",
            "required\n",
            "indian\n",
            "law\n",
            "made\n",
            "contact\n",
            "since\n",
            "modi\n",
            "asserted\n",
            "traveled\n",
            "northern\n",
            "india\n",
            "two\n",
            "year\n",
            "leaving\n",
            "parental\n",
            "home\n",
            "visiting\n",
            "number\n",
            "religious\n",
            "centre\n",
            "detail\n",
            "travel\n",
            "emerged\n",
            "upon\n",
            "return\n",
            "gujarat\n",
            "became\n",
            "full\n",
            "time\n",
            "worker\n",
            "rss\n",
            "state\n",
            "emergency\n",
            "declared\n",
            "prime\n",
            "minister\n",
            "indira\n",
            "gandhi\n",
            "modi\n",
            "went\n",
            "hiding\n",
            "rss\n",
            "assigned\n",
            "bjp\n",
            "held\n",
            "several\n",
            "position\n",
            "within\n",
            "party\n",
            "hierarchy\n",
            "rising\n",
            "rank\n",
            "general\n",
            "secretary\n"
          ]
        }
      ]
    },
    {
      "cell_type": "code",
      "source": [
        "## Apply Stopwords . Lemmatize\n",
        "import re\n",
        "corpus=[]\n",
        "for i in range(len(sentences)):\n",
        "  review=re.sub('[^a-zA-Z]',' ',sentences[i])\n",
        "  review=review.lower()\n",
        "  review=review.split()\n",
        "  review=[lemmatizer.lemmatize(word) for word in review if not word in set(stopwords.words('english'))]\n",
        "  review=' '.join(review)\n",
        "  corpus.append(review)"
      ],
      "metadata": {
        "id": "6_g24jk2eI7l"
      },
      "execution_count": 18,
      "outputs": []
    },
    {
      "cell_type": "code",
      "source": [
        "from sklearn.feature_extraction.text import CountVectorizer\n",
        "cv=CountVectorizer(binary=True,ngram_range=(2,3))\n"
      ],
      "metadata": {
        "id": "_B_ehxRTcepG"
      },
      "execution_count": 32,
      "outputs": []
    },
    {
      "cell_type": "code",
      "source": [
        "X= cv.fit_transform(corpus)"
      ],
      "metadata": {
        "id": "MeUiK0kbczhU"
      },
      "execution_count": 33,
      "outputs": []
    },
    {
      "cell_type": "code",
      "source": [
        "cv.vocabulary_"
      ],
      "metadata": {
        "colab": {
          "base_uri": "https://localhost:8080/"
        },
        "id": "48Qsbqfqc_I2",
        "outputId": "0385eb6d-0aba-45d2-887d-58cea03f582f"
      },
      "execution_count": 34,
      "outputs": [
        {
          "output_type": "execute_result",
          "data": {
            "text/plain": [
              "{'narendra damodardas': 178,\n",
              " 'damodardas modi': 53,\n",
              " 'modi gujarati': 168,\n",
              " 'gujarati narendra': 86,\n",
              " 'narendra damodar': 176,\n",
              " 'damodar da': 51,\n",
              " 'da modi': 49,\n",
              " 'modi listen': 170,\n",
              " 'listen born': 130,\n",
              " 'born september': 28,\n",
              " 'september indian': 248,\n",
              " 'indian politician': 112,\n",
              " 'politician serving': 204,\n",
              " 'serving th': 252,\n",
              " 'th current': 268,\n",
              " 'current prime': 47,\n",
              " 'prime minister': 208,\n",
              " 'minister india': 154,\n",
              " 'india since': 105,\n",
              " 'narendra damodardas modi': 179,\n",
              " 'damodardas modi gujarati': 54,\n",
              " 'modi gujarati narendra': 169,\n",
              " 'gujarati narendra damodar': 87,\n",
              " 'narendra damodar da': 177,\n",
              " 'damodar da modi': 52,\n",
              " 'da modi listen': 50,\n",
              " 'modi listen born': 171,\n",
              " 'listen born september': 131,\n",
              " 'born september indian': 29,\n",
              " 'september indian politician': 249,\n",
              " 'indian politician serving': 113,\n",
              " 'politician serving th': 205,\n",
              " 'serving th current': 253,\n",
              " 'th current prime': 269,\n",
              " 'current prime minister': 48,\n",
              " 'prime minister india': 211,\n",
              " 'minister india since': 155,\n",
              " 'modi chief': 164,\n",
              " 'chief minister': 32,\n",
              " 'minister gujarat': 152,\n",
              " 'gujarat member': 82,\n",
              " 'member parliament': 146,\n",
              " 'parliament varanasi': 197,\n",
              " 'modi chief minister': 165,\n",
              " 'chief minister gujarat': 33,\n",
              " 'minister gujarat member': 153,\n",
              " 'gujarat member parliament': 83,\n",
              " 'member parliament varanasi': 147,\n",
              " 'member bharatiya': 144,\n",
              " 'bharatiya janata': 18,\n",
              " 'janata party': 118,\n",
              " 'party bjp': 198,\n",
              " 'bjp rashtriya': 22,\n",
              " 'rashtriya swayamsevak': 222,\n",
              " 'swayamsevak sangh': 264,\n",
              " 'sangh rss': 243,\n",
              " 'rss right': 239,\n",
              " 'right wing': 231,\n",
              " 'wing hindu': 293,\n",
              " 'hindu nationalist': 92,\n",
              " 'nationalist paramilitary': 182,\n",
              " 'paramilitary volunteer': 192,\n",
              " 'volunteer organisation': 289,\n",
              " 'member bharatiya janata': 145,\n",
              " 'bharatiya janata party': 19,\n",
              " 'janata party bjp': 119,\n",
              " 'party bjp rashtriya': 199,\n",
              " 'bjp rashtriya swayamsevak': 23,\n",
              " 'rashtriya swayamsevak sangh': 223,\n",
              " 'swayamsevak sangh rss': 265,\n",
              " 'sangh rss right': 244,\n",
              " 'rss right wing': 240,\n",
              " 'right wing hindu': 232,\n",
              " 'wing hindu nationalist': 294,\n",
              " 'hindu nationalist paramilitary': 93,\n",
              " 'nationalist paramilitary volunteer': 183,\n",
              " 'paramilitary volunteer organisation': 193,\n",
              " 'first prime': 69,\n",
              " 'minister born': 150,\n",
              " 'born india': 24,\n",
              " 'india independence': 102,\n",
              " 'independence second': 100,\n",
              " 'second prime': 245,\n",
              " 'minister belonging': 148,\n",
              " 'belonging indian': 16,\n",
              " 'indian national': 110,\n",
              " 'national congress': 180,\n",
              " 'congress two': 42,\n",
              " 'two consecutive': 277,\n",
              " 'consecutive majority': 44,\n",
              " 'majority lok': 140,\n",
              " 'lok sabha': 132,\n",
              " 'sabha lower': 241,\n",
              " 'lower house': 136,\n",
              " 'house india': 98,\n",
              " 'india parliament': 104,\n",
              " 'first prime minister': 70,\n",
              " 'prime minister born': 210,\n",
              " 'minister born india': 151,\n",
              " 'born india independence': 25,\n",
              " 'india independence second': 103,\n",
              " 'independence second prime': 101,\n",
              " 'second prime minister': 246,\n",
              " 'prime minister belonging': 209,\n",
              " 'minister belonging indian': 149,\n",
              " 'belonging indian national': 17,\n",
              " 'indian national congress': 111,\n",
              " 'national congress two': 181,\n",
              " 'congress two consecutive': 43,\n",
              " 'two consecutive majority': 278,\n",
              " 'consecutive majority lok': 45,\n",
              " 'majority lok sabha': 141,\n",
              " 'lok sabha lower': 133,\n",
              " 'sabha lower house': 242,\n",
              " 'lower house india': 137,\n",
              " 'house india parliament': 99,\n",
              " 'also longest': 6,\n",
              " 'longest serving': 134,\n",
              " 'serving prime': 250,\n",
              " 'minister non': 158,\n",
              " 'non congress': 184,\n",
              " 'congress party': 41,\n",
              " 'also longest serving': 7,\n",
              " 'longest serving prime': 135,\n",
              " 'serving prime minister': 251,\n",
              " 'prime minister non': 213,\n",
              " 'minister non congress': 159,\n",
              " 'non congress party': 185,\n",
              " 'born raised': 26,\n",
              " 'raised vadnagar': 218,\n",
              " 'vadnagar small': 285,\n",
              " 'small town': 256,\n",
              " 'town northeastern': 272,\n",
              " 'northeastern gujarat': 186,\n",
              " 'gujarat modi': 84,\n",
              " 'modi completed': 166,\n",
              " 'completed secondary': 39,\n",
              " 'secondary education': 247,\n",
              " 'born raised vadnagar': 27,\n",
              " 'raised vadnagar small': 219,\n",
              " 'vadnagar small town': 286,\n",
              " 'small town northeastern': 257,\n",
              " 'town northeastern gujarat': 273,\n",
              " 'northeastern gujarat modi': 187,\n",
              " 'gujarat modi completed': 85,\n",
              " 'modi completed secondary': 167,\n",
              " 'completed secondary education': 40,\n",
              " 'introduced rss': 116,\n",
              " 'rss age': 235,\n",
              " 'age eight': 3,\n",
              " 'introduced rss age': 117,\n",
              " 'rss age eight': 236,\n",
              " 'drawn attention': 63,\n",
              " 'attention work': 12,\n",
              " 'work child': 297,\n",
              " 'child father': 34,\n",
              " 'father tea': 67,\n",
              " 'tea stall': 266,\n",
              " 'stall vadnagar': 258,\n",
              " 'vadnagar railway': 283,\n",
              " 'railway station': 216,\n",
              " 'station platform': 262,\n",
              " 'platform description': 202,\n",
              " 'description reliably': 59,\n",
              " 'reliably corroborated': 224,\n",
              " 'drawn attention work': 64,\n",
              " 'attention work child': 13,\n",
              " 'work child father': 298,\n",
              " 'child father tea': 35,\n",
              " 'father tea stall': 68,\n",
              " 'tea stall vadnagar': 267,\n",
              " 'stall vadnagar railway': 259,\n",
              " 'vadnagar railway station': 284,\n",
              " 'railway station platform': 217,\n",
              " 'station platform description': 263,\n",
              " 'platform description reliably': 203,\n",
              " 'description reliably corroborated': 60,\n",
              " 'age modi': 4,\n",
              " 'modi married': 172,\n",
              " 'married jashodaben': 142,\n",
              " 'jashodaben chimanlal': 120,\n",
              " 'chimanlal modi': 36,\n",
              " 'modi abandoned': 160,\n",
              " 'abandoned soon': 0,\n",
              " 'age modi married': 5,\n",
              " 'modi married jashodaben': 173,\n",
              " 'married jashodaben chimanlal': 143,\n",
              " 'jashodaben chimanlal modi': 121,\n",
              " 'chimanlal modi abandoned': 37,\n",
              " 'modi abandoned soon': 161,\n",
              " 'left parental': 128,\n",
              " 'parental home': 194,\n",
              " 'home come': 94,\n",
              " 'come live': 38,\n",
              " 'left parental home': 129,\n",
              " 'parental home come': 195,\n",
              " 'home come live': 95,\n",
              " 'first publicly': 71,\n",
              " 'publicly acknowledged': 214,\n",
              " 'acknowledged wife': 1,\n",
              " 'wife four': 291,\n",
              " 'four decade': 73,\n",
              " 'decade later': 55,\n",
              " 'later required': 122,\n",
              " 'required indian': 227,\n",
              " 'indian law': 108,\n",
              " 'law made': 124,\n",
              " 'made contact': 138,\n",
              " 'contact since': 46,\n",
              " 'first publicly acknowledged': 72,\n",
              " 'publicly acknowledged wife': 215,\n",
              " 'acknowledged wife four': 2,\n",
              " 'wife four decade': 292,\n",
              " 'four decade later': 74,\n",
              " 'decade later required': 56,\n",
              " 'later required indian': 123,\n",
              " 'required indian law': 228,\n",
              " 'indian law made': 109,\n",
              " 'law made contact': 125,\n",
              " 'made contact since': 139,\n",
              " 'modi asserted': 162,\n",
              " 'asserted traveled': 8,\n",
              " 'traveled northern': 275,\n",
              " 'northern india': 188,\n",
              " 'india two': 106,\n",
              " 'two year': 279,\n",
              " 'year leaving': 300,\n",
              " 'leaving parental': 126,\n",
              " 'home visiting': 96,\n",
              " 'visiting number': 287,\n",
              " 'number religious': 190,\n",
              " 'religious centre': 225,\n",
              " 'centre detail': 30,\n",
              " 'detail travel': 61,\n",
              " 'travel emerged': 274,\n",
              " 'modi asserted traveled': 163,\n",
              " 'asserted traveled northern': 9,\n",
              " 'traveled northern india': 276,\n",
              " 'northern india two': 189,\n",
              " 'india two year': 107,\n",
              " 'two year leaving': 280,\n",
              " 'year leaving parental': 301,\n",
              " 'leaving parental home': 127,\n",
              " 'parental home visiting': 196,\n",
              " 'home visiting number': 97,\n",
              " 'visiting number religious': 288,\n",
              " 'number religious centre': 191,\n",
              " 'religious centre detail': 226,\n",
              " 'centre detail travel': 31,\n",
              " 'detail travel emerged': 62,\n",
              " 'upon return': 281,\n",
              " 'return gujarat': 229,\n",
              " 'gujarat became': 80,\n",
              " 'became full': 14,\n",
              " 'full time': 75,\n",
              " 'time worker': 270,\n",
              " 'worker rss': 299,\n",
              " 'upon return gujarat': 282,\n",
              " 'return gujarat became': 230,\n",
              " 'gujarat became full': 81,\n",
              " 'became full time': 15,\n",
              " 'full time worker': 76,\n",
              " 'time worker rss': 271,\n",
              " 'state emergency': 260,\n",
              " 'emergency declared': 65,\n",
              " 'declared prime': 57,\n",
              " 'minister indira': 156,\n",
              " 'indira gandhi': 114,\n",
              " 'gandhi modi': 77,\n",
              " 'modi went': 174,\n",
              " 'went hiding': 290,\n",
              " 'state emergency declared': 261,\n",
              " 'emergency declared prime': 66,\n",
              " 'declared prime minister': 58,\n",
              " 'prime minister indira': 212,\n",
              " 'minister indira gandhi': 157,\n",
              " 'indira gandhi modi': 115,\n",
              " 'gandhi modi went': 78,\n",
              " 'modi went hiding': 175,\n",
              " 'rss assigned': 237,\n",
              " 'assigned bjp': 10,\n",
              " 'bjp held': 20,\n",
              " 'held several': 88,\n",
              " 'several position': 254,\n",
              " 'position within': 206,\n",
              " 'within party': 295,\n",
              " 'party hierarchy': 200,\n",
              " 'hierarchy rising': 90,\n",
              " 'rising rank': 233,\n",
              " 'rank general': 220,\n",
              " 'general secretary': 79,\n",
              " 'rss assigned bjp': 238,\n",
              " 'assigned bjp held': 11,\n",
              " 'bjp held several': 21,\n",
              " 'held several position': 89,\n",
              " 'several position within': 255,\n",
              " 'position within party': 207,\n",
              " 'within party hierarchy': 296,\n",
              " 'party hierarchy rising': 201,\n",
              " 'hierarchy rising rank': 91,\n",
              " 'rising rank general': 234,\n",
              " 'rank general secretary': 221}"
            ]
          },
          "metadata": {},
          "execution_count": 34
        }
      ]
    },
    {
      "cell_type": "code",
      "source": [
        "corpus[0]"
      ],
      "metadata": {
        "colab": {
          "base_uri": "https://localhost:8080/",
          "height": 53
        },
        "id": "9ukel5PJdDTK",
        "outputId": "2aa08025-6c03-49b0-ce7b-e3b5fe250647"
      },
      "execution_count": 35,
      "outputs": [
        {
          "output_type": "execute_result",
          "data": {
            "text/plain": [
              "'narendra damodardas modi gujarati narendra damodar da modi listen born september indian politician serving th current prime minister india since'"
            ],
            "application/vnd.google.colaboratory.intrinsic+json": {
              "type": "string"
            }
          },
          "metadata": {},
          "execution_count": 35
        }
      ]
    },
    {
      "cell_type": "code",
      "source": [
        "X[0].toarray()"
      ],
      "metadata": {
        "colab": {
          "base_uri": "https://localhost:8080/"
        },
        "id": "-cJchlhNdRpd",
        "outputId": "8c02c273-7cfc-47cf-cfb7-a28b69e4caeb"
      },
      "execution_count": 36,
      "outputs": [
        {
          "output_type": "execute_result",
          "data": {
            "text/plain": [
              "array([[0, 0, 0, 0, 0, 0, 0, 0, 0, 0, 0, 0, 0, 0, 0, 0, 0, 0, 0, 0, 0, 0,\n",
              "        0, 0, 0, 0, 0, 0, 1, 1, 0, 0, 0, 0, 0, 0, 0, 0, 0, 0, 0, 0, 0, 0,\n",
              "        0, 0, 0, 1, 1, 1, 1, 1, 1, 1, 1, 0, 0, 0, 0, 0, 0, 0, 0, 0, 0, 0,\n",
              "        0, 0, 0, 0, 0, 0, 0, 0, 0, 0, 0, 0, 0, 0, 0, 0, 0, 0, 0, 0, 1, 1,\n",
              "        0, 0, 0, 0, 0, 0, 0, 0, 0, 0, 0, 0, 0, 0, 0, 0, 0, 1, 0, 0, 0, 0,\n",
              "        0, 0, 1, 1, 0, 0, 0, 0, 0, 0, 0, 0, 0, 0, 0, 0, 0, 0, 0, 0, 1, 1,\n",
              "        0, 0, 0, 0, 0, 0, 0, 0, 0, 0, 0, 0, 0, 0, 0, 0, 0, 0, 0, 0, 0, 0,\n",
              "        1, 1, 0, 0, 0, 0, 0, 0, 0, 0, 0, 0, 0, 0, 1, 1, 1, 1, 0, 0, 0, 0,\n",
              "        1, 1, 1, 1, 0, 0, 0, 0, 0, 0, 0, 0, 0, 0, 0, 0, 0, 0, 0, 0, 0, 0,\n",
              "        0, 0, 0, 0, 0, 0, 1, 1, 0, 0, 1, 0, 0, 1, 0, 0, 0, 0, 0, 0, 0, 0,\n",
              "        0, 0, 0, 0, 0, 0, 0, 0, 0, 0, 0, 0, 0, 0, 0, 0, 0, 0, 0, 0, 0, 0,\n",
              "        0, 0, 0, 0, 0, 0, 1, 1, 0, 0, 1, 1, 0, 0, 0, 0, 0, 0, 0, 0, 0, 0,\n",
              "        0, 0, 0, 0, 1, 1, 0, 0, 0, 0, 0, 0, 0, 0, 0, 0, 0, 0, 0, 0, 0, 0,\n",
              "        0, 0, 0, 0, 0, 0, 0, 0, 0, 0, 0, 0, 0, 0, 0, 0]])"
            ]
          },
          "metadata": {},
          "execution_count": 36
        }
      ]
    },
    {
      "cell_type": "code",
      "source": [
        "### TF-IDF\n",
        "from sklearn.feature_extraction.text import TfidfVectorizer\n",
        "cv=TfidfVectorizer(ngram_range=(1,1),max_features=7)\n",
        "X=cv.fit_transform(corpus)"
      ],
      "metadata": {
        "id": "ZyQTPNX7dYhp"
      },
      "execution_count": 72,
      "outputs": []
    },
    {
      "cell_type": "code",
      "source": [
        "corpus[0]"
      ],
      "metadata": {
        "colab": {
          "base_uri": "https://localhost:8080/",
          "height": 53
        },
        "id": "17U0vf_XSnin",
        "outputId": "8672dcfa-2706-4812-944a-09a1a23a7d6c"
      },
      "execution_count": 73,
      "outputs": [
        {
          "output_type": "execute_result",
          "data": {
            "text/plain": [
              "'narendra damodardas modi gujarati narendra damodar da modi listen born september indian politician serving th current prime minister india since'"
            ],
            "application/vnd.google.colaboratory.intrinsic+json": {
              "type": "string"
            }
          },
          "metadata": {},
          "execution_count": 73
        }
      ]
    },
    {
      "cell_type": "code",
      "source": [
        "X[0].toarray()"
      ],
      "metadata": {
        "colab": {
          "base_uri": "https://localhost:8080/"
        },
        "id": "pNpRjQROSp7w",
        "outputId": "b1348323-e18d-47fd-c2b8-072f794061ca"
      },
      "execution_count": 74,
      "outputs": [
        {
          "output_type": "execute_result",
          "data": {
            "text/plain": [
              "array([[0.        , 0.41328488, 0.41328488, 0.34306194, 0.63272884,\n",
              "        0.37463841, 0.        ]])"
            ]
          },
          "metadata": {},
          "execution_count": 74
        }
      ]
    },
    {
      "cell_type": "code",
      "source": [],
      "metadata": {
        "id": "m_firHDBStI9"
      },
      "execution_count": null,
      "outputs": []
    }
  ]
}