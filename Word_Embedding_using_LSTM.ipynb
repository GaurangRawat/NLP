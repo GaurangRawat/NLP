{
  "nbformat": 4,
  "nbformat_minor": 0,
  "metadata": {
    "colab": {
      "provenance": [],
      "gpuType": "T4",
      "authorship_tag": "ABX9TyPDAEZI14BTfWBSzo3x0zol",
      "include_colab_link": true
    },
    "kernelspec": {
      "name": "python3",
      "display_name": "Python 3"
    },
    "language_info": {
      "name": "python"
    }
  },
  "cells": [
    {
      "cell_type": "markdown",
      "metadata": {
        "id": "view-in-github",
        "colab_type": "text"
      },
      "source": [
        "<a href=\"https://colab.research.google.com/github/GaurangRawat/NLP/blob/main/Word_Embedding_using_LSTM.ipynb\" target=\"_parent\"><img src=\"https://colab.research.google.com/assets/colab-badge.svg\" alt=\"Open In Colab\"/></a>"
      ]
    },
    {
      "cell_type": "markdown",
      "source": [
        "##Word Embedding Techniques  using Embedding Layer in Keras\n",
        "---"
      ],
      "metadata": {
        "id": "MKShmAX3BGLB"
      }
    },
    {
      "cell_type": "code",
      "execution_count": 103,
      "metadata": {
        "id": "8UE_5v1oAWXj"
      },
      "outputs": [],
      "source": [
        "### Libraries Used Tensorflow >2.0 and keras"
      ]
    },
    {
      "cell_type": "code",
      "source": [
        "!pip install tensorflow"
      ],
      "metadata": {
        "colab": {
          "base_uri": "https://localhost:8080/"
        },
        "id": "vC6v5teUD6a5",
        "outputId": "c62882bc-b2fa-42f2-8076-9269ea06a724"
      },
      "execution_count": 104,
      "outputs": [
        {
          "output_type": "stream",
          "name": "stdout",
          "text": [
            "Requirement already satisfied: tensorflow in /usr/local/lib/python3.10/dist-packages (2.17.1)\n",
            "Requirement already satisfied: absl-py>=1.0.0 in /usr/local/lib/python3.10/dist-packages (from tensorflow) (1.4.0)\n",
            "Requirement already satisfied: astunparse>=1.6.0 in /usr/local/lib/python3.10/dist-packages (from tensorflow) (1.6.3)\n",
            "Requirement already satisfied: flatbuffers>=24.3.25 in /usr/local/lib/python3.10/dist-packages (from tensorflow) (24.12.23)\n",
            "Requirement already satisfied: gast!=0.5.0,!=0.5.1,!=0.5.2,>=0.2.1 in /usr/local/lib/python3.10/dist-packages (from tensorflow) (0.6.0)\n",
            "Requirement already satisfied: google-pasta>=0.1.1 in /usr/local/lib/python3.10/dist-packages (from tensorflow) (0.2.0)\n",
            "Requirement already satisfied: h5py>=3.10.0 in /usr/local/lib/python3.10/dist-packages (from tensorflow) (3.12.1)\n",
            "Requirement already satisfied: libclang>=13.0.0 in /usr/local/lib/python3.10/dist-packages (from tensorflow) (18.1.1)\n",
            "Requirement already satisfied: ml-dtypes<0.5.0,>=0.3.1 in /usr/local/lib/python3.10/dist-packages (from tensorflow) (0.4.1)\n",
            "Requirement already satisfied: opt-einsum>=2.3.2 in /usr/local/lib/python3.10/dist-packages (from tensorflow) (3.4.0)\n",
            "Requirement already satisfied: packaging in /usr/local/lib/python3.10/dist-packages (from tensorflow) (24.2)\n",
            "Requirement already satisfied: protobuf!=4.21.0,!=4.21.1,!=4.21.2,!=4.21.3,!=4.21.4,!=4.21.5,<5.0.0dev,>=3.20.3 in /usr/local/lib/python3.10/dist-packages (from tensorflow) (4.25.5)\n",
            "Requirement already satisfied: requests<3,>=2.21.0 in /usr/local/lib/python3.10/dist-packages (from tensorflow) (2.32.3)\n",
            "Requirement already satisfied: setuptools in /usr/local/lib/python3.10/dist-packages (from tensorflow) (75.1.0)\n",
            "Requirement already satisfied: six>=1.12.0 in /usr/local/lib/python3.10/dist-packages (from tensorflow) (1.17.0)\n",
            "Requirement already satisfied: termcolor>=1.1.0 in /usr/local/lib/python3.10/dist-packages (from tensorflow) (2.5.0)\n",
            "Requirement already satisfied: typing-extensions>=3.6.6 in /usr/local/lib/python3.10/dist-packages (from tensorflow) (4.12.2)\n",
            "Requirement already satisfied: wrapt>=1.11.0 in /usr/local/lib/python3.10/dist-packages (from tensorflow) (1.17.0)\n",
            "Requirement already satisfied: grpcio<2.0,>=1.24.3 in /usr/local/lib/python3.10/dist-packages (from tensorflow) (1.69.0)\n",
            "Requirement already satisfied: tensorboard<2.18,>=2.17 in /usr/local/lib/python3.10/dist-packages (from tensorflow) (2.17.1)\n",
            "Requirement already satisfied: keras>=3.2.0 in /usr/local/lib/python3.10/dist-packages (from tensorflow) (3.5.0)\n",
            "Requirement already satisfied: tensorflow-io-gcs-filesystem>=0.23.1 in /usr/local/lib/python3.10/dist-packages (from tensorflow) (0.37.1)\n",
            "Requirement already satisfied: numpy<2.0.0,>=1.23.5 in /usr/local/lib/python3.10/dist-packages (from tensorflow) (1.26.4)\n",
            "Requirement already satisfied: wheel<1.0,>=0.23.0 in /usr/local/lib/python3.10/dist-packages (from astunparse>=1.6.0->tensorflow) (0.45.1)\n",
            "Requirement already satisfied: rich in /usr/local/lib/python3.10/dist-packages (from keras>=3.2.0->tensorflow) (13.9.4)\n",
            "Requirement already satisfied: namex in /usr/local/lib/python3.10/dist-packages (from keras>=3.2.0->tensorflow) (0.0.8)\n",
            "Requirement already satisfied: optree in /usr/local/lib/python3.10/dist-packages (from keras>=3.2.0->tensorflow) (0.13.1)\n",
            "Requirement already satisfied: charset-normalizer<4,>=2 in /usr/local/lib/python3.10/dist-packages (from requests<3,>=2.21.0->tensorflow) (3.4.1)\n",
            "Requirement already satisfied: idna<4,>=2.5 in /usr/local/lib/python3.10/dist-packages (from requests<3,>=2.21.0->tensorflow) (3.10)\n",
            "Requirement already satisfied: urllib3<3,>=1.21.1 in /usr/local/lib/python3.10/dist-packages (from requests<3,>=2.21.0->tensorflow) (2.3.0)\n",
            "Requirement already satisfied: certifi>=2017.4.17 in /usr/local/lib/python3.10/dist-packages (from requests<3,>=2.21.0->tensorflow) (2024.12.14)\n",
            "Requirement already satisfied: markdown>=2.6.8 in /usr/local/lib/python3.10/dist-packages (from tensorboard<2.18,>=2.17->tensorflow) (3.7)\n",
            "Requirement already satisfied: tensorboard-data-server<0.8.0,>=0.7.0 in /usr/local/lib/python3.10/dist-packages (from tensorboard<2.18,>=2.17->tensorflow) (0.7.2)\n",
            "Requirement already satisfied: werkzeug>=1.0.1 in /usr/local/lib/python3.10/dist-packages (from tensorboard<2.18,>=2.17->tensorflow) (3.1.3)\n",
            "Requirement already satisfied: MarkupSafe>=2.1.1 in /usr/local/lib/python3.10/dist-packages (from werkzeug>=1.0.1->tensorboard<2.18,>=2.17->tensorflow) (3.0.2)\n",
            "Requirement already satisfied: markdown-it-py>=2.2.0 in /usr/local/lib/python3.10/dist-packages (from rich->keras>=3.2.0->tensorflow) (3.0.0)\n",
            "Requirement already satisfied: pygments<3.0.0,>=2.13.0 in /usr/local/lib/python3.10/dist-packages (from rich->keras>=3.2.0->tensorflow) (2.18.0)\n",
            "Requirement already satisfied: mdurl~=0.1 in /usr/local/lib/python3.10/dist-packages (from markdown-it-py>=2.2.0->rich->keras>=3.2.0->tensorflow) (0.1.2)\n"
          ]
        }
      ]
    },
    {
      "cell_type": "code",
      "source": [
        "## tensorflow\n",
        "from tensorflow.keras.preprocessing.text import one_hot"
      ],
      "metadata": {
        "id": "T9iQBaYwEFMl"
      },
      "execution_count": 105,
      "outputs": []
    },
    {
      "cell_type": "code",
      "source": [
        "### sentences\n",
        "sent=[  'the glass of milk',\n",
        "     'the glass of juice',\n",
        "     'the cup of tea',\n",
        "    'I am a good boy',\n",
        "     'I am a good developer',\n",
        "     'understand the meaning of words',\n",
        "     'your videos are good']"
      ],
      "metadata": {
        "id": "-gahn3K4E0O4"
      },
      "execution_count": 106,
      "outputs": []
    },
    {
      "cell_type": "code",
      "source": [
        "### Vocabulary Size\n",
        "voc_size=10000"
      ],
      "metadata": {
        "id": "i5Otf7ORFJcZ"
      },
      "execution_count": 107,
      "outputs": []
    },
    {
      "cell_type": "markdown",
      "source": [
        "##One Hot Representation\n",
        "---"
      ],
      "metadata": {
        "id": "7rVy4_sxFV6K"
      }
    },
    {
      "cell_type": "code",
      "source": [
        "onehot_repr=[one_hot(words,voc_size)for words in sent]\n",
        "print(onehot_repr)"
      ],
      "metadata": {
        "colab": {
          "base_uri": "https://localhost:8080/"
        },
        "id": "5D_qiqkdFU74",
        "outputId": "a39b0a6d-7f3a-491f-8dab-5167bdb7dc71"
      },
      "execution_count": 108,
      "outputs": [
        {
          "output_type": "stream",
          "name": "stdout",
          "text": [
            "[[9634, 549, 60, 4464], [9634, 549, 60, 8224], [9634, 1493, 60, 6916], [2813, 3252, 3910, 2079, 4761], [2813, 3252, 3910, 2079, 6853], [4085, 9634, 9904, 60, 7233], [4853, 1558, 3460, 2079]]\n"
          ]
        }
      ]
    },
    {
      "cell_type": "markdown",
      "source": [
        "##Word Embedding Representation\n",
        "---"
      ],
      "metadata": {
        "id": "x0TDPpawHH-o"
      }
    },
    {
      "cell_type": "code",
      "source": [
        "from tensorflow.keras.layers import Embedding\n",
        "from tensorflow.keras.preprocessing.sequence import pad_sequences\n",
        "from tensorflow.keras.models import Sequential"
      ],
      "metadata": {
        "id": "PmOMxBsoFuT6"
      },
      "execution_count": 109,
      "outputs": []
    },
    {
      "cell_type": "code",
      "source": [
        "import numpy as np"
      ],
      "metadata": {
        "id": "ynQ7YSKDH3Kz"
      },
      "execution_count": 110,
      "outputs": []
    },
    {
      "cell_type": "code",
      "source": [
        "### pre-padding\n",
        "sent_length=8\n",
        "embedded_docs=pad_sequences(onehot_repr,padding='pre',maxlen=sent_length)\n",
        "print(embedded_docs)"
      ],
      "metadata": {
        "colab": {
          "base_uri": "https://localhost:8080/"
        },
        "id": "odfYQjLFH6Ew",
        "outputId": "41b158d2-cd0c-451e-d165-ae4f160da5d7"
      },
      "execution_count": 111,
      "outputs": [
        {
          "output_type": "stream",
          "name": "stdout",
          "text": [
            "[[   0    0    0    0 9634  549   60 4464]\n",
            " [   0    0    0    0 9634  549   60 8224]\n",
            " [   0    0    0    0 9634 1493   60 6916]\n",
            " [   0    0    0 2813 3252 3910 2079 4761]\n",
            " [   0    0    0 2813 3252 3910 2079 6853]\n",
            " [   0    0    0 4085 9634 9904   60 7233]\n",
            " [   0    0    0    0 4853 1558 3460 2079]]\n"
          ]
        }
      ]
    },
    {
      "cell_type": "code",
      "source": [
        "dim=10"
      ],
      "metadata": {
        "id": "E2xoo55eQKLY"
      },
      "execution_count": 112,
      "outputs": []
    },
    {
      "cell_type": "code",
      "source": [
        "\n",
        "model=Sequential()\n",
        "model.add(Embedding(voc_size,10))\n",
        "model.build(input_shape=(None, sent_length))  # Specify the input shape explicitly in the newer version\n",
        "model.compile(optimizer='adam',loss='mse')"
      ],
      "metadata": {
        "id": "7fpkzYavI3Nx"
      },
      "execution_count": 113,
      "outputs": []
    },
    {
      "cell_type": "code",
      "source": [
        "model.summary()"
      ],
      "metadata": {
        "colab": {
          "base_uri": "https://localhost:8080/",
          "height": 178
        },
        "id": "nn45lP9pJfU3",
        "outputId": "66263c67-c717-4be2-e2aa-54aa4a32e1c1"
      },
      "execution_count": 114,
      "outputs": [
        {
          "output_type": "display_data",
          "data": {
            "text/plain": [
              "\u001b[1mModel: \"sequential_29\"\u001b[0m\n"
            ],
            "text/html": [
              "<pre style=\"white-space:pre;overflow-x:auto;line-height:normal;font-family:Menlo,'DejaVu Sans Mono',consolas,'Courier New',monospace\"><span style=\"font-weight: bold\">Model: \"sequential_29\"</span>\n",
              "</pre>\n"
            ]
          },
          "metadata": {}
        },
        {
          "output_type": "display_data",
          "data": {
            "text/plain": [
              "┏━━━━━━━━━━━━━━━━━━━━━━━━━━━━━━━━━━━━━━┳━━━━━━━━━━━━━━━━━━━━━━━━━━━━━┳━━━━━━━━━━━━━━━━━┓\n",
              "┃\u001b[1m \u001b[0m\u001b[1mLayer (type)                        \u001b[0m\u001b[1m \u001b[0m┃\u001b[1m \u001b[0m\u001b[1mOutput Shape               \u001b[0m\u001b[1m \u001b[0m┃\u001b[1m \u001b[0m\u001b[1m        Param #\u001b[0m\u001b[1m \u001b[0m┃\n",
              "┡━━━━━━━━━━━━━━━━━━━━━━━━━━━━━━━━━━━━━━╇━━━━━━━━━━━━━━━━━━━━━━━━━━━━━╇━━━━━━━━━━━━━━━━━┩\n",
              "│ embedding_22 (\u001b[38;5;33mEmbedding\u001b[0m)             │ (\u001b[38;5;45mNone\u001b[0m, \u001b[38;5;34m8\u001b[0m, \u001b[38;5;34m10\u001b[0m)               │         \u001b[38;5;34m100,000\u001b[0m │\n",
              "└──────────────────────────────────────┴─────────────────────────────┴─────────────────┘\n"
            ],
            "text/html": [
              "<pre style=\"white-space:pre;overflow-x:auto;line-height:normal;font-family:Menlo,'DejaVu Sans Mono',consolas,'Courier New',monospace\">┏━━━━━━━━━━━━━━━━━━━━━━━━━━━━━━━━━━━━━━┳━━━━━━━━━━━━━━━━━━━━━━━━━━━━━┳━━━━━━━━━━━━━━━━━┓\n",
              "┃<span style=\"font-weight: bold\"> Layer (type)                         </span>┃<span style=\"font-weight: bold\"> Output Shape                </span>┃<span style=\"font-weight: bold\">         Param # </span>┃\n",
              "┡━━━━━━━━━━━━━━━━━━━━━━━━━━━━━━━━━━━━━━╇━━━━━━━━━━━━━━━━━━━━━━━━━━━━━╇━━━━━━━━━━━━━━━━━┩\n",
              "│ embedding_22 (<span style=\"color: #0087ff; text-decoration-color: #0087ff\">Embedding</span>)             │ (<span style=\"color: #00d7ff; text-decoration-color: #00d7ff\">None</span>, <span style=\"color: #00af00; text-decoration-color: #00af00\">8</span>, <span style=\"color: #00af00; text-decoration-color: #00af00\">10</span>)               │         <span style=\"color: #00af00; text-decoration-color: #00af00\">100,000</span> │\n",
              "└──────────────────────────────────────┴─────────────────────────────┴─────────────────┘\n",
              "</pre>\n"
            ]
          },
          "metadata": {}
        },
        {
          "output_type": "display_data",
          "data": {
            "text/plain": [
              "\u001b[1m Total params: \u001b[0m\u001b[38;5;34m100,000\u001b[0m (390.62 KB)\n"
            ],
            "text/html": [
              "<pre style=\"white-space:pre;overflow-x:auto;line-height:normal;font-family:Menlo,'DejaVu Sans Mono',consolas,'Courier New',monospace\"><span style=\"font-weight: bold\"> Total params: </span><span style=\"color: #00af00; text-decoration-color: #00af00\">100,000</span> (390.62 KB)\n",
              "</pre>\n"
            ]
          },
          "metadata": {}
        },
        {
          "output_type": "display_data",
          "data": {
            "text/plain": [
              "\u001b[1m Trainable params: \u001b[0m\u001b[38;5;34m100,000\u001b[0m (390.62 KB)\n"
            ],
            "text/html": [
              "<pre style=\"white-space:pre;overflow-x:auto;line-height:normal;font-family:Menlo,'DejaVu Sans Mono',consolas,'Courier New',monospace\"><span style=\"font-weight: bold\"> Trainable params: </span><span style=\"color: #00af00; text-decoration-color: #00af00\">100,000</span> (390.62 KB)\n",
              "</pre>\n"
            ]
          },
          "metadata": {}
        },
        {
          "output_type": "display_data",
          "data": {
            "text/plain": [
              "\u001b[1m Non-trainable params: \u001b[0m\u001b[38;5;34m0\u001b[0m (0.00 B)\n"
            ],
            "text/html": [
              "<pre style=\"white-space:pre;overflow-x:auto;line-height:normal;font-family:Menlo,'DejaVu Sans Mono',consolas,'Courier New',monospace\"><span style=\"font-weight: bold\"> Non-trainable params: </span><span style=\"color: #00af00; text-decoration-color: #00af00\">0</span> (0.00 B)\n",
              "</pre>\n"
            ]
          },
          "metadata": {}
        }
      ]
    },
    {
      "cell_type": "code",
      "source": [
        "embedded_docs[0]"
      ],
      "metadata": {
        "colab": {
          "base_uri": "https://localhost:8080/"
        },
        "id": "k_311XAyMygJ",
        "outputId": "c9c80424-84e1-4c73-f534-690d42218503"
      },
      "execution_count": 120,
      "outputs": [
        {
          "output_type": "execute_result",
          "data": {
            "text/plain": [
              "array([   0,    0,    0,    0, 9634,  549,   60, 4464], dtype=int32)"
            ]
          },
          "metadata": {},
          "execution_count": 120
        }
      ]
    },
    {
      "cell_type": "code",
      "source": [
        "model.predict(embedded_docs)"
      ],
      "metadata": {
        "colab": {
          "base_uri": "https://localhost:8080/"
        },
        "id": "SHf27BU5MvXl",
        "outputId": "da762e19-5e62-488e-e428-3a206a2c36c7"
      },
      "execution_count": 119,
      "outputs": [
        {
          "output_type": "stream",
          "name": "stdout",
          "text": [
            "\u001b[1m1/1\u001b[0m \u001b[32m━━━━━━━━━━━━━━━━━━━━\u001b[0m\u001b[37m\u001b[0m \u001b[1m0s\u001b[0m 60ms/step\n"
          ]
        },
        {
          "output_type": "execute_result",
          "data": {
            "text/plain": [
              "array([[[ 2.39670277e-03, -1.78712606e-02,  2.98609622e-02,\n",
              "         -3.50682028e-02,  3.49080563e-03,  4.11088131e-02,\n",
              "          4.51082923e-02,  2.73571275e-02, -9.56100225e-03,\n",
              "         -6.90668821e-03],\n",
              "        [ 2.39670277e-03, -1.78712606e-02,  2.98609622e-02,\n",
              "         -3.50682028e-02,  3.49080563e-03,  4.11088131e-02,\n",
              "          4.51082923e-02,  2.73571275e-02, -9.56100225e-03,\n",
              "         -6.90668821e-03],\n",
              "        [ 2.39670277e-03, -1.78712606e-02,  2.98609622e-02,\n",
              "         -3.50682028e-02,  3.49080563e-03,  4.11088131e-02,\n",
              "          4.51082923e-02,  2.73571275e-02, -9.56100225e-03,\n",
              "         -6.90668821e-03],\n",
              "        [ 2.39670277e-03, -1.78712606e-02,  2.98609622e-02,\n",
              "         -3.50682028e-02,  3.49080563e-03,  4.11088131e-02,\n",
              "          4.51082923e-02,  2.73571275e-02, -9.56100225e-03,\n",
              "         -6.90668821e-03],\n",
              "        [ 3.23129818e-03,  3.38447951e-02,  1.08611584e-03,\n",
              "          3.82810496e-02,  4.51842658e-02,  2.65643746e-03,\n",
              "          2.99709104e-02, -4.69906442e-02, -2.26364862e-02,\n",
              "          1.64754651e-02],\n",
              "        [-1.02583766e-02,  3.53459008e-02, -4.88307327e-03,\n",
              "         -6.14727661e-03,  3.41675319e-02, -1.33213624e-02,\n",
              "          1.31268762e-02,  3.17192711e-02, -3.46785076e-02,\n",
              "         -2.01074034e-03],\n",
              "        [-3.56039517e-02,  1.33399628e-02,  1.44751780e-02,\n",
              "          4.33713682e-02,  1.55324973e-02, -1.86055303e-02,\n",
              "         -2.00281274e-02,  3.26803662e-02, -4.54095490e-02,\n",
              "         -9.46263224e-03],\n",
              "        [-3.06173209e-02,  3.76572646e-02,  4.91426848e-02,\n",
              "         -1.65997148e-02,  2.53669955e-02, -3.68291512e-02,\n",
              "         -4.79114167e-02,  2.61783116e-02,  1.00552551e-02,\n",
              "         -4.14222106e-02]],\n",
              "\n",
              "       [[ 2.39670277e-03, -1.78712606e-02,  2.98609622e-02,\n",
              "         -3.50682028e-02,  3.49080563e-03,  4.11088131e-02,\n",
              "          4.51082923e-02,  2.73571275e-02, -9.56100225e-03,\n",
              "         -6.90668821e-03],\n",
              "        [ 2.39670277e-03, -1.78712606e-02,  2.98609622e-02,\n",
              "         -3.50682028e-02,  3.49080563e-03,  4.11088131e-02,\n",
              "          4.51082923e-02,  2.73571275e-02, -9.56100225e-03,\n",
              "         -6.90668821e-03],\n",
              "        [ 2.39670277e-03, -1.78712606e-02,  2.98609622e-02,\n",
              "         -3.50682028e-02,  3.49080563e-03,  4.11088131e-02,\n",
              "          4.51082923e-02,  2.73571275e-02, -9.56100225e-03,\n",
              "         -6.90668821e-03],\n",
              "        [ 2.39670277e-03, -1.78712606e-02,  2.98609622e-02,\n",
              "         -3.50682028e-02,  3.49080563e-03,  4.11088131e-02,\n",
              "          4.51082923e-02,  2.73571275e-02, -9.56100225e-03,\n",
              "         -6.90668821e-03],\n",
              "        [ 3.23129818e-03,  3.38447951e-02,  1.08611584e-03,\n",
              "          3.82810496e-02,  4.51842658e-02,  2.65643746e-03,\n",
              "          2.99709104e-02, -4.69906442e-02, -2.26364862e-02,\n",
              "          1.64754651e-02],\n",
              "        [-1.02583766e-02,  3.53459008e-02, -4.88307327e-03,\n",
              "         -6.14727661e-03,  3.41675319e-02, -1.33213624e-02,\n",
              "          1.31268762e-02,  3.17192711e-02, -3.46785076e-02,\n",
              "         -2.01074034e-03],\n",
              "        [-3.56039517e-02,  1.33399628e-02,  1.44751780e-02,\n",
              "          4.33713682e-02,  1.55324973e-02, -1.86055303e-02,\n",
              "         -2.00281274e-02,  3.26803662e-02, -4.54095490e-02,\n",
              "         -9.46263224e-03],\n",
              "        [ 3.83043550e-02,  8.87347385e-03, -8.20994377e-04,\n",
              "          1.60891153e-02,  2.97541060e-02, -2.25524437e-02,\n",
              "         -1.91513896e-02,  9.25394148e-03, -1.73688903e-02,\n",
              "          4.26320471e-02]],\n",
              "\n",
              "       [[ 2.39670277e-03, -1.78712606e-02,  2.98609622e-02,\n",
              "         -3.50682028e-02,  3.49080563e-03,  4.11088131e-02,\n",
              "          4.51082923e-02,  2.73571275e-02, -9.56100225e-03,\n",
              "         -6.90668821e-03],\n",
              "        [ 2.39670277e-03, -1.78712606e-02,  2.98609622e-02,\n",
              "         -3.50682028e-02,  3.49080563e-03,  4.11088131e-02,\n",
              "          4.51082923e-02,  2.73571275e-02, -9.56100225e-03,\n",
              "         -6.90668821e-03],\n",
              "        [ 2.39670277e-03, -1.78712606e-02,  2.98609622e-02,\n",
              "         -3.50682028e-02,  3.49080563e-03,  4.11088131e-02,\n",
              "          4.51082923e-02,  2.73571275e-02, -9.56100225e-03,\n",
              "         -6.90668821e-03],\n",
              "        [ 2.39670277e-03, -1.78712606e-02,  2.98609622e-02,\n",
              "         -3.50682028e-02,  3.49080563e-03,  4.11088131e-02,\n",
              "          4.51082923e-02,  2.73571275e-02, -9.56100225e-03,\n",
              "         -6.90668821e-03],\n",
              "        [ 3.23129818e-03,  3.38447951e-02,  1.08611584e-03,\n",
              "          3.82810496e-02,  4.51842658e-02,  2.65643746e-03,\n",
              "          2.99709104e-02, -4.69906442e-02, -2.26364862e-02,\n",
              "          1.64754651e-02],\n",
              "        [ 4.22351994e-02,  4.17801253e-02, -4.11770567e-02,\n",
              "          1.33563168e-02,  4.08159532e-02, -7.73008913e-03,\n",
              "         -3.58501561e-02,  3.55450623e-02, -5.75388595e-03,\n",
              "          2.95723937e-02],\n",
              "        [-3.56039517e-02,  1.33399628e-02,  1.44751780e-02,\n",
              "          4.33713682e-02,  1.55324973e-02, -1.86055303e-02,\n",
              "         -2.00281274e-02,  3.26803662e-02, -4.54095490e-02,\n",
              "         -9.46263224e-03],\n",
              "        [-2.79818065e-02,  4.28083576e-02, -4.09369580e-02,\n",
              "         -2.09936146e-02, -2.31841691e-02,  2.16571800e-02,\n",
              "         -2.57025007e-02, -4.65567000e-02,  9.71233845e-03,\n",
              "         -3.30367461e-02]],\n",
              "\n",
              "       [[ 2.39670277e-03, -1.78712606e-02,  2.98609622e-02,\n",
              "         -3.50682028e-02,  3.49080563e-03,  4.11088131e-02,\n",
              "          4.51082923e-02,  2.73571275e-02, -9.56100225e-03,\n",
              "         -6.90668821e-03],\n",
              "        [ 2.39670277e-03, -1.78712606e-02,  2.98609622e-02,\n",
              "         -3.50682028e-02,  3.49080563e-03,  4.11088131e-02,\n",
              "          4.51082923e-02,  2.73571275e-02, -9.56100225e-03,\n",
              "         -6.90668821e-03],\n",
              "        [ 2.39670277e-03, -1.78712606e-02,  2.98609622e-02,\n",
              "         -3.50682028e-02,  3.49080563e-03,  4.11088131e-02,\n",
              "          4.51082923e-02,  2.73571275e-02, -9.56100225e-03,\n",
              "         -6.90668821e-03],\n",
              "        [ 6.08801842e-04,  4.74181212e-02,  3.55002321e-02,\n",
              "         -1.47627816e-02, -2.94763688e-02,  8.86214897e-03,\n",
              "         -4.22655009e-02,  4.43239249e-02, -2.32740995e-02,\n",
              "         -1.77963264e-02],\n",
              "        [-2.46935487e-02,  2.91370228e-03, -1.66133791e-03,\n",
              "          9.79125500e-03,  2.04336382e-02,  3.22788395e-02,\n",
              "         -3.43373790e-02,  3.37924697e-02,  4.97390963e-02,\n",
              "         -3.46670300e-03],\n",
              "        [-1.89163443e-02, -2.61672027e-02,  1.54751278e-02,\n",
              "         -1.76326744e-02, -2.22003460e-03,  4.85798754e-02,\n",
              "          4.82234396e-02, -1.44557133e-02,  2.80795358e-02,\n",
              "         -2.35989224e-02],\n",
              "        [ 3.14195789e-02,  1.87826194e-02, -6.01287931e-03,\n",
              "         -4.31552641e-02,  2.56896019e-05, -2.87031531e-02,\n",
              "          3.31823863e-02, -2.51477249e-02,  7.96348974e-03,\n",
              "          9.77132469e-03],\n",
              "        [ 3.57760228e-02, -8.67866352e-03, -2.84231659e-02,\n",
              "         -2.75908839e-02,  1.03451498e-02,  1.38775222e-02,\n",
              "          2.75218152e-02,  1.48022175e-03, -2.77133826e-02,\n",
              "         -1.76007748e-02]],\n",
              "\n",
              "       [[ 2.39670277e-03, -1.78712606e-02,  2.98609622e-02,\n",
              "         -3.50682028e-02,  3.49080563e-03,  4.11088131e-02,\n",
              "          4.51082923e-02,  2.73571275e-02, -9.56100225e-03,\n",
              "         -6.90668821e-03],\n",
              "        [ 2.39670277e-03, -1.78712606e-02,  2.98609622e-02,\n",
              "         -3.50682028e-02,  3.49080563e-03,  4.11088131e-02,\n",
              "          4.51082923e-02,  2.73571275e-02, -9.56100225e-03,\n",
              "         -6.90668821e-03],\n",
              "        [ 2.39670277e-03, -1.78712606e-02,  2.98609622e-02,\n",
              "         -3.50682028e-02,  3.49080563e-03,  4.11088131e-02,\n",
              "          4.51082923e-02,  2.73571275e-02, -9.56100225e-03,\n",
              "         -6.90668821e-03],\n",
              "        [ 6.08801842e-04,  4.74181212e-02,  3.55002321e-02,\n",
              "         -1.47627816e-02, -2.94763688e-02,  8.86214897e-03,\n",
              "         -4.22655009e-02,  4.43239249e-02, -2.32740995e-02,\n",
              "         -1.77963264e-02],\n",
              "        [-2.46935487e-02,  2.91370228e-03, -1.66133791e-03,\n",
              "          9.79125500e-03,  2.04336382e-02,  3.22788395e-02,\n",
              "         -3.43373790e-02,  3.37924697e-02,  4.97390963e-02,\n",
              "         -3.46670300e-03],\n",
              "        [-1.89163443e-02, -2.61672027e-02,  1.54751278e-02,\n",
              "         -1.76326744e-02, -2.22003460e-03,  4.85798754e-02,\n",
              "          4.82234396e-02, -1.44557133e-02,  2.80795358e-02,\n",
              "         -2.35989224e-02],\n",
              "        [ 3.14195789e-02,  1.87826194e-02, -6.01287931e-03,\n",
              "         -4.31552641e-02,  2.56896019e-05, -2.87031531e-02,\n",
              "          3.31823863e-02, -2.51477249e-02,  7.96348974e-03,\n",
              "          9.77132469e-03],\n",
              "        [-9.58005339e-03,  3.65014113e-02, -4.89760563e-03,\n",
              "         -7.08807260e-04, -4.02067527e-02,  2.28302218e-02,\n",
              "         -9.55625623e-03,  6.25637919e-03, -6.28256798e-03,\n",
              "          3.08849663e-03]],\n",
              "\n",
              "       [[ 2.39670277e-03, -1.78712606e-02,  2.98609622e-02,\n",
              "         -3.50682028e-02,  3.49080563e-03,  4.11088131e-02,\n",
              "          4.51082923e-02,  2.73571275e-02, -9.56100225e-03,\n",
              "         -6.90668821e-03],\n",
              "        [ 2.39670277e-03, -1.78712606e-02,  2.98609622e-02,\n",
              "         -3.50682028e-02,  3.49080563e-03,  4.11088131e-02,\n",
              "          4.51082923e-02,  2.73571275e-02, -9.56100225e-03,\n",
              "         -6.90668821e-03],\n",
              "        [ 2.39670277e-03, -1.78712606e-02,  2.98609622e-02,\n",
              "         -3.50682028e-02,  3.49080563e-03,  4.11088131e-02,\n",
              "          4.51082923e-02,  2.73571275e-02, -9.56100225e-03,\n",
              "         -6.90668821e-03],\n",
              "        [ 1.79579742e-02,  2.55692936e-02, -1.04504116e-02,\n",
              "          2.93124840e-03,  1.85304917e-02,  2.39857472e-02,\n",
              "         -3.94939259e-03,  7.45141506e-03,  2.88641714e-02,\n",
              "         -2.09661573e-03],\n",
              "        [ 3.23129818e-03,  3.38447951e-02,  1.08611584e-03,\n",
              "          3.82810496e-02,  4.51842658e-02,  2.65643746e-03,\n",
              "          2.99709104e-02, -4.69906442e-02, -2.26364862e-02,\n",
              "          1.64754651e-02],\n",
              "        [ 3.13336141e-02, -3.81214619e-02,  3.94759215e-02,\n",
              "         -1.31446496e-02, -2.79235840e-03,  4.07247208e-02,\n",
              "          2.40470879e-02, -3.89659405e-02,  4.00072001e-02,\n",
              "         -4.59123254e-02],\n",
              "        [-3.56039517e-02,  1.33399628e-02,  1.44751780e-02,\n",
              "          4.33713682e-02,  1.55324973e-02, -1.86055303e-02,\n",
              "         -2.00281274e-02,  3.26803662e-02, -4.54095490e-02,\n",
              "         -9.46263224e-03],\n",
              "        [-2.28176471e-02,  1.04550272e-03,  3.80845182e-02,\n",
              "         -4.96804714e-02, -2.19384190e-02,  1.23960152e-02,\n",
              "         -4.58717942e-02,  3.16113122e-02, -2.10212357e-02,\n",
              "         -7.86906481e-03]],\n",
              "\n",
              "       [[ 2.39670277e-03, -1.78712606e-02,  2.98609622e-02,\n",
              "         -3.50682028e-02,  3.49080563e-03,  4.11088131e-02,\n",
              "          4.51082923e-02,  2.73571275e-02, -9.56100225e-03,\n",
              "         -6.90668821e-03],\n",
              "        [ 2.39670277e-03, -1.78712606e-02,  2.98609622e-02,\n",
              "         -3.50682028e-02,  3.49080563e-03,  4.11088131e-02,\n",
              "          4.51082923e-02,  2.73571275e-02, -9.56100225e-03,\n",
              "         -6.90668821e-03],\n",
              "        [ 2.39670277e-03, -1.78712606e-02,  2.98609622e-02,\n",
              "         -3.50682028e-02,  3.49080563e-03,  4.11088131e-02,\n",
              "          4.51082923e-02,  2.73571275e-02, -9.56100225e-03,\n",
              "         -6.90668821e-03],\n",
              "        [ 2.39670277e-03, -1.78712606e-02,  2.98609622e-02,\n",
              "         -3.50682028e-02,  3.49080563e-03,  4.11088131e-02,\n",
              "          4.51082923e-02,  2.73571275e-02, -9.56100225e-03,\n",
              "         -6.90668821e-03],\n",
              "        [ 2.96703838e-02,  2.75971182e-02, -4.83373404e-02,\n",
              "          9.27318260e-03,  4.84973900e-02,  4.52280045e-03,\n",
              "          2.62214579e-02,  3.77590992e-02,  2.58653499e-02,\n",
              "          9.93873924e-03],\n",
              "        [ 1.26772411e-02,  6.25025481e-04,  1.64316557e-02,\n",
              "          1.41958147e-03,  9.86642763e-03, -3.87167446e-02,\n",
              "          3.28382589e-02,  3.04925554e-02,  2.56317742e-02,\n",
              "          2.52963789e-02],\n",
              "        [ 3.45782749e-02, -3.82354148e-02, -1.51388645e-02,\n",
              "         -3.18359509e-02, -4.81707938e-02, -4.62125801e-02,\n",
              "         -4.01615500e-02, -3.31035852e-02,  3.42775472e-02,\n",
              "         -1.80549398e-02],\n",
              "        [ 3.14195789e-02,  1.87826194e-02, -6.01287931e-03,\n",
              "         -4.31552641e-02,  2.56896019e-05, -2.87031531e-02,\n",
              "          3.31823863e-02, -2.51477249e-02,  7.96348974e-03,\n",
              "          9.77132469e-03]]], dtype=float32)"
            ]
          },
          "metadata": {},
          "execution_count": 119
        }
      ]
    },
    {
      "cell_type": "code",
      "source": [
        "input_sequence = np.expand_dims(embedded_docs[0], axis=0)  # Add batch dimension\n",
        "\n",
        "# Predict\n",
        "prediction = model.predict(input_sequence)\n",
        "print(prediction)"
      ],
      "metadata": {
        "colab": {
          "base_uri": "https://localhost:8080/"
        },
        "id": "fYBeVjN3NglH",
        "outputId": "c74c0c83-d137-45e5-ecf4-d898f3d98e91"
      },
      "execution_count": 123,
      "outputs": [
        {
          "output_type": "stream",
          "name": "stderr",
          "text": [
            "WARNING:tensorflow:5 out of the last 7 calls to <function TensorFlowTrainer.make_predict_function.<locals>.one_step_on_data_distributed at 0x790961ad1bd0> triggered tf.function retracing. Tracing is expensive and the excessive number of tracings could be due to (1) creating @tf.function repeatedly in a loop, (2) passing tensors with different shapes, (3) passing Python objects instead of tensors. For (1), please define your @tf.function outside of the loop. For (2), @tf.function has reduce_retracing=True option that can avoid unnecessary retracing. For (3), please refer to https://www.tensorflow.org/guide/function#controlling_retracing and https://www.tensorflow.org/api_docs/python/tf/function for  more details.\n"
          ]
        },
        {
          "output_type": "stream",
          "name": "stdout",
          "text": [
            "\u001b[1m1/1\u001b[0m \u001b[32m━━━━━━━━━━━━━━━━━━━━\u001b[0m\u001b[37m\u001b[0m \u001b[1m0s\u001b[0m 46ms/step\n",
            "[[[ 0.0023967  -0.01787126  0.02986096 -0.0350682   0.00349081\n",
            "    0.04110881  0.04510829  0.02735713 -0.009561   -0.00690669]\n",
            "  [ 0.0023967  -0.01787126  0.02986096 -0.0350682   0.00349081\n",
            "    0.04110881  0.04510829  0.02735713 -0.009561   -0.00690669]\n",
            "  [ 0.0023967  -0.01787126  0.02986096 -0.0350682   0.00349081\n",
            "    0.04110881  0.04510829  0.02735713 -0.009561   -0.00690669]\n",
            "  [ 0.0023967  -0.01787126  0.02986096 -0.0350682   0.00349081\n",
            "    0.04110881  0.04510829  0.02735713 -0.009561   -0.00690669]\n",
            "  [ 0.0032313   0.0338448   0.00108612  0.03828105  0.04518427\n",
            "    0.00265644  0.02997091 -0.04699064 -0.02263649  0.01647547]\n",
            "  [-0.01025838  0.0353459  -0.00488307 -0.00614728  0.03416753\n",
            "   -0.01332136  0.01312688  0.03171927 -0.03467851 -0.00201074]\n",
            "  [-0.03560395  0.01333996  0.01447518  0.04337137  0.0155325\n",
            "   -0.01860553 -0.02002813  0.03268037 -0.04540955 -0.00946263]\n",
            "  [-0.03061732  0.03765726  0.04914268 -0.01659971  0.025367\n",
            "   -0.03682915 -0.04791142  0.02617831  0.01005526 -0.04142221]]]\n"
          ]
        }
      ]
    },
    {
      "cell_type": "markdown",
      "source": [
        "#Revision Assignment\n",
        "---"
      ],
      "metadata": {
        "id": "k3UfoAS8kn9B"
      }
    },
    {
      "cell_type": "code",
      "source": [
        "### Assignment\n",
        "\n",
        "sent_1=[\"The world is a better place\",\n",
        "      \"Marvel series is my favourite movie\",\n",
        "      \"I like DC movies\",\n",
        "      \"the cat is eating the food\",\n",
        "      \"Tom and Jerry is my favourite movie\",\n",
        "      \"Python is my favourite programming language\"\n",
        "      ]"
      ],
      "metadata": {
        "id": "LNYzz2beTuyM"
      },
      "execution_count": 124,
      "outputs": []
    },
    {
      "cell_type": "code",
      "source": [
        "sent_1"
      ],
      "metadata": {
        "colab": {
          "base_uri": "https://localhost:8080/"
        },
        "id": "U_D9hlK3YyZY",
        "outputId": "eef8371e-1452-4be5-b284-cff3022e61f2"
      },
      "execution_count": 127,
      "outputs": [
        {
          "output_type": "execute_result",
          "data": {
            "text/plain": [
              "['The world is a better place',\n",
              " 'Marvel series is my favourite movie',\n",
              " 'I like DC movies',\n",
              " 'the cat is eating the food',\n",
              " 'Tom and Jerry is my favourite movie',\n",
              " 'Python is my favourite programming language']"
            ]
          },
          "metadata": {},
          "execution_count": 127
        }
      ]
    },
    {
      "cell_type": "code",
      "source": [
        "voc_size=500"
      ],
      "metadata": {
        "id": "-JlxqCzFVC-O"
      },
      "execution_count": 134,
      "outputs": []
    },
    {
      "cell_type": "code",
      "source": [
        "onehot1_repr=[one_hot(words,voc_size)for words in sent_1]\n",
        "print(onehot1_repr)"
      ],
      "metadata": {
        "colab": {
          "base_uri": "https://localhost:8080/"
        },
        "id": "MS04QNzyYq51",
        "outputId": "ea3cc7a5-ce76-41a7-f069-418058368b92"
      },
      "execution_count": 139,
      "outputs": [
        {
          "output_type": "stream",
          "name": "stdout",
          "text": [
            "[[51, 213, 432, 201, 465, 372], [20, 71, 432, 92, 371, 413], [217, 295, 254, 464], [51, 352, 432, 181, 51, 234], [225, 498, 180, 432, 92, 371, 413], [259, 432, 92, 371, 4, 386]]\n"
          ]
        }
      ]
    },
    {
      "cell_type": "markdown",
      "source": [
        "##Word Embedding\n",
        "---"
      ],
      "metadata": {
        "id": "T11eUplBZTcI"
      }
    },
    {
      "cell_type": "code",
      "source": [
        "# post padding\n",
        "sent_length=8\n",
        "embedded_docs1=pad_sequences(onehot1_repr,padding='post',maxlen=sent_length)\n",
        "print(embedded_docs1)"
      ],
      "metadata": {
        "colab": {
          "base_uri": "https://localhost:8080/"
        },
        "id": "T70lW4o1ZQCZ",
        "outputId": "9bfa4597-d381-4ad3-fbd5-0be5950460ef"
      },
      "execution_count": 143,
      "outputs": [
        {
          "output_type": "stream",
          "name": "stdout",
          "text": [
            "[[ 51 213 432 201 465 372   0   0]\n",
            " [ 20  71 432  92 371 413   0   0]\n",
            " [217 295 254 464   0   0   0   0]\n",
            " [ 51 352 432 181  51 234   0   0]\n",
            " [225 498 180 432  92 371 413   0]\n",
            " [259 432  92 371   4 386   0   0]]\n"
          ]
        }
      ]
    },
    {
      "cell_type": "code",
      "source": [
        "dim=10"
      ],
      "metadata": {
        "id": "RDWCl0LfZ-ex"
      },
      "execution_count": 144,
      "outputs": []
    },
    {
      "cell_type": "code",
      "source": [
        "model=Sequential()\n",
        "model.add(Embedding(voc_size,10))\n",
        "model.build(input_shape=(None,sent_length))\n",
        "model.compile(optimizer='adam',loss='mse')"
      ],
      "metadata": {
        "id": "IOcRwF8naG-k"
      },
      "execution_count": 145,
      "outputs": []
    },
    {
      "cell_type": "code",
      "source": [
        "model.summary()"
      ],
      "metadata": {
        "colab": {
          "base_uri": "https://localhost:8080/",
          "height": 178
        },
        "id": "5bgk4raFaZcr",
        "outputId": "f547f435-b2e1-4df4-ba7f-0be54f3e2c4b"
      },
      "execution_count": 146,
      "outputs": [
        {
          "output_type": "display_data",
          "data": {
            "text/plain": [
              "\u001b[1mModel: \"sequential_32\"\u001b[0m\n"
            ],
            "text/html": [
              "<pre style=\"white-space:pre;overflow-x:auto;line-height:normal;font-family:Menlo,'DejaVu Sans Mono',consolas,'Courier New',monospace\"><span style=\"font-weight: bold\">Model: \"sequential_32\"</span>\n",
              "</pre>\n"
            ]
          },
          "metadata": {}
        },
        {
          "output_type": "display_data",
          "data": {
            "text/plain": [
              "┏━━━━━━━━━━━━━━━━━━━━━━━━━━━━━━━━━━━━━━┳━━━━━━━━━━━━━━━━━━━━━━━━━━━━━┳━━━━━━━━━━━━━━━━━┓\n",
              "┃\u001b[1m \u001b[0m\u001b[1mLayer (type)                        \u001b[0m\u001b[1m \u001b[0m┃\u001b[1m \u001b[0m\u001b[1mOutput Shape               \u001b[0m\u001b[1m \u001b[0m┃\u001b[1m \u001b[0m\u001b[1m        Param #\u001b[0m\u001b[1m \u001b[0m┃\n",
              "┡━━━━━━━━━━━━━━━━━━━━━━━━━━━━━━━━━━━━━━╇━━━━━━━━━━━━━━━━━━━━━━━━━━━━━╇━━━━━━━━━━━━━━━━━┩\n",
              "│ embedding_24 (\u001b[38;5;33mEmbedding\u001b[0m)             │ (\u001b[38;5;45mNone\u001b[0m, \u001b[38;5;34m8\u001b[0m, \u001b[38;5;34m10\u001b[0m)               │           \u001b[38;5;34m5,000\u001b[0m │\n",
              "└──────────────────────────────────────┴─────────────────────────────┴─────────────────┘\n"
            ],
            "text/html": [
              "<pre style=\"white-space:pre;overflow-x:auto;line-height:normal;font-family:Menlo,'DejaVu Sans Mono',consolas,'Courier New',monospace\">┏━━━━━━━━━━━━━━━━━━━━━━━━━━━━━━━━━━━━━━┳━━━━━━━━━━━━━━━━━━━━━━━━━━━━━┳━━━━━━━━━━━━━━━━━┓\n",
              "┃<span style=\"font-weight: bold\"> Layer (type)                         </span>┃<span style=\"font-weight: bold\"> Output Shape                </span>┃<span style=\"font-weight: bold\">         Param # </span>┃\n",
              "┡━━━━━━━━━━━━━━━━━━━━━━━━━━━━━━━━━━━━━━╇━━━━━━━━━━━━━━━━━━━━━━━━━━━━━╇━━━━━━━━━━━━━━━━━┩\n",
              "│ embedding_24 (<span style=\"color: #0087ff; text-decoration-color: #0087ff\">Embedding</span>)             │ (<span style=\"color: #00d7ff; text-decoration-color: #00d7ff\">None</span>, <span style=\"color: #00af00; text-decoration-color: #00af00\">8</span>, <span style=\"color: #00af00; text-decoration-color: #00af00\">10</span>)               │           <span style=\"color: #00af00; text-decoration-color: #00af00\">5,000</span> │\n",
              "└──────────────────────────────────────┴─────────────────────────────┴─────────────────┘\n",
              "</pre>\n"
            ]
          },
          "metadata": {}
        },
        {
          "output_type": "display_data",
          "data": {
            "text/plain": [
              "\u001b[1m Total params: \u001b[0m\u001b[38;5;34m5,000\u001b[0m (19.53 KB)\n"
            ],
            "text/html": [
              "<pre style=\"white-space:pre;overflow-x:auto;line-height:normal;font-family:Menlo,'DejaVu Sans Mono',consolas,'Courier New',monospace\"><span style=\"font-weight: bold\"> Total params: </span><span style=\"color: #00af00; text-decoration-color: #00af00\">5,000</span> (19.53 KB)\n",
              "</pre>\n"
            ]
          },
          "metadata": {}
        },
        {
          "output_type": "display_data",
          "data": {
            "text/plain": [
              "\u001b[1m Trainable params: \u001b[0m\u001b[38;5;34m5,000\u001b[0m (19.53 KB)\n"
            ],
            "text/html": [
              "<pre style=\"white-space:pre;overflow-x:auto;line-height:normal;font-family:Menlo,'DejaVu Sans Mono',consolas,'Courier New',monospace\"><span style=\"font-weight: bold\"> Trainable params: </span><span style=\"color: #00af00; text-decoration-color: #00af00\">5,000</span> (19.53 KB)\n",
              "</pre>\n"
            ]
          },
          "metadata": {}
        },
        {
          "output_type": "display_data",
          "data": {
            "text/plain": [
              "\u001b[1m Non-trainable params: \u001b[0m\u001b[38;5;34m0\u001b[0m (0.00 B)\n"
            ],
            "text/html": [
              "<pre style=\"white-space:pre;overflow-x:auto;line-height:normal;font-family:Menlo,'DejaVu Sans Mono',consolas,'Courier New',monospace\"><span style=\"font-weight: bold\"> Non-trainable params: </span><span style=\"color: #00af00; text-decoration-color: #00af00\">0</span> (0.00 B)\n",
              "</pre>\n"
            ]
          },
          "metadata": {}
        }
      ]
    },
    {
      "cell_type": "code",
      "source": [
        "embedded_docs1[0]"
      ],
      "metadata": {
        "colab": {
          "base_uri": "https://localhost:8080/"
        },
        "id": "T8Zcexa7ayZ3",
        "outputId": "c6ee4708-5d7c-4f08-8c87-e26db1974271"
      },
      "execution_count": 148,
      "outputs": [
        {
          "output_type": "execute_result",
          "data": {
            "text/plain": [
              "array([ 51, 213, 432, 201, 465, 372,   0,   0], dtype=int32)"
            ]
          },
          "metadata": {},
          "execution_count": 148
        }
      ]
    },
    {
      "cell_type": "code",
      "source": [
        "model.predict(embedded_docs1)"
      ],
      "metadata": {
        "colab": {
          "base_uri": "https://localhost:8080/"
        },
        "id": "7GGO5K4fcAsl",
        "outputId": "a3c99544-235a-431a-b2d5-8cad2cc992ce"
      },
      "execution_count": 152,
      "outputs": [
        {
          "output_type": "stream",
          "name": "stdout",
          "text": [
            "\u001b[1m1/1\u001b[0m \u001b[32m━━━━━━━━━━━━━━━━━━━━\u001b[0m\u001b[37m\u001b[0m \u001b[1m0s\u001b[0m 33ms/step\n"
          ]
        },
        {
          "output_type": "execute_result",
          "data": {
            "text/plain": [
              "array([[[-0.04172225, -0.0205543 ,  0.04257796,  0.04810028,\n",
              "          0.01017922, -0.01616739, -0.00425187, -0.03732263,\n",
              "         -0.00375845,  0.04254698],\n",
              "        [ 0.04040085,  0.01200991, -0.04915208, -0.00124204,\n",
              "         -0.0382622 ,  0.02155453,  0.03414068, -0.00406674,\n",
              "         -0.02567376,  0.00706074],\n",
              "        [-0.01213423, -0.04508815, -0.04483719, -0.02832724,\n",
              "         -0.02051358,  0.02696813, -0.04899561, -0.04123185,\n",
              "          0.02199835, -0.04602554],\n",
              "        [-0.0164338 ,  0.01386576,  0.02606258, -0.02557412,\n",
              "         -0.01170758,  0.04406   , -0.04017761,  0.04136043,\n",
              "         -0.00600515,  0.0027067 ],\n",
              "        [-0.00767767, -0.03420886, -0.00054898,  0.03942635,\n",
              "         -0.00037362,  0.00400808,  0.04770663,  0.01611731,\n",
              "         -0.01116876,  0.0111353 ],\n",
              "        [-0.01056918,  0.03645506,  0.04005608, -0.01994335,\n",
              "          0.04533647,  0.03869518,  0.04756835, -0.01950547,\n",
              "         -0.03265089, -0.03552229],\n",
              "        [ 0.04136598, -0.02808245, -0.00471274, -0.03421899,\n",
              "          0.02300601,  0.01185795,  0.01658079,  0.00524603,\n",
              "         -0.02805116, -0.01510417],\n",
              "        [ 0.04136598, -0.02808245, -0.00471274, -0.03421899,\n",
              "          0.02300601,  0.01185795,  0.01658079,  0.00524603,\n",
              "         -0.02805116, -0.01510417]],\n",
              "\n",
              "       [[ 0.03079976,  0.00847954, -0.01246459,  0.04700464,\n",
              "          0.03054384,  0.02598626, -0.02340517, -0.02926974,\n",
              "         -0.01625619,  0.02825797],\n",
              "        [ 0.02867195, -0.01765108,  0.02736783, -0.03940674,\n",
              "          0.04950886, -0.02126839,  0.01815733,  0.011018  ,\n",
              "          0.03467334, -0.04105897],\n",
              "        [-0.01213423, -0.04508815, -0.04483719, -0.02832724,\n",
              "         -0.02051358,  0.02696813, -0.04899561, -0.04123185,\n",
              "          0.02199835, -0.04602554],\n",
              "        [ 0.01845838, -0.04081216,  0.02428995, -0.01404604,\n",
              "          0.01829896,  0.02379927, -0.01689636, -0.00106498,\n",
              "          0.03017085, -0.0160898 ],\n",
              "        [ 0.0248137 ,  0.03836593, -0.04581419,  0.01095726,\n",
              "          0.03205365,  0.03249053, -0.03188244,  0.01105906,\n",
              "          0.01673521, -0.03948643],\n",
              "        [-0.02349168, -0.04273185, -0.03439555,  0.03806212,\n",
              "          0.00991797,  0.00243175, -0.00106794, -0.04939401,\n",
              "          0.03771924, -0.03677802],\n",
              "        [ 0.04136598, -0.02808245, -0.00471274, -0.03421899,\n",
              "          0.02300601,  0.01185795,  0.01658079,  0.00524603,\n",
              "         -0.02805116, -0.01510417],\n",
              "        [ 0.04136598, -0.02808245, -0.00471274, -0.03421899,\n",
              "          0.02300601,  0.01185795,  0.01658079,  0.00524603,\n",
              "         -0.02805116, -0.01510417]],\n",
              "\n",
              "       [[-0.04536954,  0.00490303,  0.04320545, -0.0271682 ,\n",
              "          0.00883691, -0.00442366, -0.04189423,  0.04244662,\n",
              "         -0.04407133,  0.03305672],\n",
              "        [ 0.00630089, -0.01062895,  0.0303942 ,  0.01541184,\n",
              "         -0.01009323,  0.01468605,  0.00801357, -0.00192549,\n",
              "          0.04759555, -0.01536074],\n",
              "        [ 0.00715183, -0.01646646,  0.01818376,  0.00174209,\n",
              "         -0.0382644 , -0.01309418, -0.0143881 , -0.01145135,\n",
              "          0.04057631,  0.04106404],\n",
              "        [ 0.03011738,  0.04055155,  0.00048385, -0.01626116,\n",
              "         -0.00214396, -0.01851491, -0.04100214, -0.028689  ,\n",
              "          0.0022915 , -0.00731219],\n",
              "        [ 0.04136598, -0.02808245, -0.00471274, -0.03421899,\n",
              "          0.02300601,  0.01185795,  0.01658079,  0.00524603,\n",
              "         -0.02805116, -0.01510417],\n",
              "        [ 0.04136598, -0.02808245, -0.00471274, -0.03421899,\n",
              "          0.02300601,  0.01185795,  0.01658079,  0.00524603,\n",
              "         -0.02805116, -0.01510417],\n",
              "        [ 0.04136598, -0.02808245, -0.00471274, -0.03421899,\n",
              "          0.02300601,  0.01185795,  0.01658079,  0.00524603,\n",
              "         -0.02805116, -0.01510417],\n",
              "        [ 0.04136598, -0.02808245, -0.00471274, -0.03421899,\n",
              "          0.02300601,  0.01185795,  0.01658079,  0.00524603,\n",
              "         -0.02805116, -0.01510417]],\n",
              "\n",
              "       [[-0.04172225, -0.0205543 ,  0.04257796,  0.04810028,\n",
              "          0.01017922, -0.01616739, -0.00425187, -0.03732263,\n",
              "         -0.00375845,  0.04254698],\n",
              "        [ 0.04858604, -0.0305532 , -0.03532946, -0.02983925,\n",
              "         -0.00936477, -0.00508349,  0.01179177,  0.01809348,\n",
              "         -0.00292721, -0.02242913],\n",
              "        [-0.01213423, -0.04508815, -0.04483719, -0.02832724,\n",
              "         -0.02051358,  0.02696813, -0.04899561, -0.04123185,\n",
              "          0.02199835, -0.04602554],\n",
              "        [ 0.02180261,  0.02588072,  0.0329943 ,  0.01095171,\n",
              "         -0.00359564, -0.01974183, -0.01151235, -0.04486012,\n",
              "         -0.03851958, -0.04798518],\n",
              "        [-0.04172225, -0.0205543 ,  0.04257796,  0.04810028,\n",
              "          0.01017922, -0.01616739, -0.00425187, -0.03732263,\n",
              "         -0.00375845,  0.04254698],\n",
              "        [ 0.02337047, -0.03469463,  0.03152727,  0.02157046,\n",
              "         -0.04953212,  0.04716421, -0.04153668,  0.00116535,\n",
              "         -0.03219729,  0.01781753],\n",
              "        [ 0.04136598, -0.02808245, -0.00471274, -0.03421899,\n",
              "          0.02300601,  0.01185795,  0.01658079,  0.00524603,\n",
              "         -0.02805116, -0.01510417],\n",
              "        [ 0.04136598, -0.02808245, -0.00471274, -0.03421899,\n",
              "          0.02300601,  0.01185795,  0.01658079,  0.00524603,\n",
              "         -0.02805116, -0.01510417]],\n",
              "\n",
              "       [[ 0.02315271,  0.04236213,  0.02889874, -0.00146582,\n",
              "         -0.00655029, -0.00103954, -0.0393796 , -0.04205661,\n",
              "         -0.00249358,  0.00101916],\n",
              "        [ 0.01339117,  0.03141514,  0.03269603, -0.01131473,\n",
              "         -0.04626205, -0.011536  ,  0.03601428,  0.01240609,\n",
              "          0.03702461, -0.0390973 ],\n",
              "        [ 0.04712124,  0.03786146, -0.04142161,  0.02522421,\n",
              "         -0.04939811, -0.01320962,  0.02771593,  0.04387427,\n",
              "         -0.02356863,  0.02214625],\n",
              "        [-0.01213423, -0.04508815, -0.04483719, -0.02832724,\n",
              "         -0.02051358,  0.02696813, -0.04899561, -0.04123185,\n",
              "          0.02199835, -0.04602554],\n",
              "        [ 0.01845838, -0.04081216,  0.02428995, -0.01404604,\n",
              "          0.01829896,  0.02379927, -0.01689636, -0.00106498,\n",
              "          0.03017085, -0.0160898 ],\n",
              "        [ 0.0248137 ,  0.03836593, -0.04581419,  0.01095726,\n",
              "          0.03205365,  0.03249053, -0.03188244,  0.01105906,\n",
              "          0.01673521, -0.03948643],\n",
              "        [-0.02349168, -0.04273185, -0.03439555,  0.03806212,\n",
              "          0.00991797,  0.00243175, -0.00106794, -0.04939401,\n",
              "          0.03771924, -0.03677802],\n",
              "        [ 0.04136598, -0.02808245, -0.00471274, -0.03421899,\n",
              "          0.02300601,  0.01185795,  0.01658079,  0.00524603,\n",
              "         -0.02805116, -0.01510417]],\n",
              "\n",
              "       [[ 0.04453589, -0.04741399, -0.04603515, -0.04904434,\n",
              "         -0.00662505,  0.00348412, -0.03955211, -0.02217038,\n",
              "         -0.03979753,  0.00951404],\n",
              "        [-0.01213423, -0.04508815, -0.04483719, -0.02832724,\n",
              "         -0.02051358,  0.02696813, -0.04899561, -0.04123185,\n",
              "          0.02199835, -0.04602554],\n",
              "        [ 0.01845838, -0.04081216,  0.02428995, -0.01404604,\n",
              "          0.01829896,  0.02379927, -0.01689636, -0.00106498,\n",
              "          0.03017085, -0.0160898 ],\n",
              "        [ 0.0248137 ,  0.03836593, -0.04581419,  0.01095726,\n",
              "          0.03205365,  0.03249053, -0.03188244,  0.01105906,\n",
              "          0.01673521, -0.03948643],\n",
              "        [-0.00096526,  0.00411744,  0.02993817, -0.0058244 ,\n",
              "         -0.04478068, -0.02381095,  0.00279916,  0.04955586,\n",
              "          0.04756201,  0.01245266],\n",
              "        [-0.01470493, -0.0284611 ,  0.04306585, -0.03384177,\n",
              "         -0.04096062, -0.00844615, -0.00670578, -0.02461317,\n",
              "         -0.00485707,  0.03916213],\n",
              "        [ 0.04136598, -0.02808245, -0.00471274, -0.03421899,\n",
              "          0.02300601,  0.01185795,  0.01658079,  0.00524603,\n",
              "         -0.02805116, -0.01510417],\n",
              "        [ 0.04136598, -0.02808245, -0.00471274, -0.03421899,\n",
              "          0.02300601,  0.01185795,  0.01658079,  0.00524603,\n",
              "         -0.02805116, -0.01510417]]], dtype=float32)"
            ]
          },
          "metadata": {},
          "execution_count": 152
        }
      ]
    },
    {
      "cell_type": "code",
      "source": [
        "input_sequence1 = np.expand_dims(embedded_docs1[0], axis=0)  # Add batch dimension\n",
        "\n",
        "# Predict\n",
        "prediction1 = model.predict(input_sequence1)\n",
        "print(prediction1)"
      ],
      "metadata": {
        "colab": {
          "base_uri": "https://localhost:8080/"
        },
        "id": "3hg_CIipcKNB",
        "outputId": "4f57f9b7-a150-4881-ad10-51893a2b43bb"
      },
      "execution_count": 151,
      "outputs": [
        {
          "output_type": "stream",
          "name": "stdout",
          "text": [
            "\u001b[1m1/1\u001b[0m \u001b[32m━━━━━━━━━━━━━━━━━━━━\u001b[0m\u001b[37m\u001b[0m \u001b[1m0s\u001b[0m 21ms/step\n",
            "[[[-0.04172225 -0.0205543   0.04257796  0.04810028  0.01017922\n",
            "   -0.01616739 -0.00425187 -0.03732263 -0.00375845  0.04254698]\n",
            "  [ 0.04040085  0.01200991 -0.04915208 -0.00124204 -0.0382622\n",
            "    0.02155453  0.03414068 -0.00406674 -0.02567376  0.00706074]\n",
            "  [-0.01213423 -0.04508815 -0.04483719 -0.02832724 -0.02051358\n",
            "    0.02696813 -0.04899561 -0.04123185  0.02199835 -0.04602554]\n",
            "  [-0.0164338   0.01386576  0.02606258 -0.02557412 -0.01170758\n",
            "    0.04406    -0.04017761  0.04136043 -0.00600515  0.0027067 ]\n",
            "  [-0.00767767 -0.03420886 -0.00054898  0.03942635 -0.00037362\n",
            "    0.00400808  0.04770663  0.01611731 -0.01116876  0.0111353 ]\n",
            "  [-0.01056918  0.03645506  0.04005608 -0.01994335  0.04533647\n",
            "    0.03869518  0.04756835 -0.01950547 -0.03265089 -0.03552229]\n",
            "  [ 0.04136598 -0.02808245 -0.00471274 -0.03421899  0.02300601\n",
            "    0.01185795  0.01658079  0.00524603 -0.02805116 -0.01510417]\n",
            "  [ 0.04136598 -0.02808245 -0.00471274 -0.03421899  0.02300601\n",
            "    0.01185795  0.01658079  0.00524603 -0.02805116 -0.01510417]]]\n"
          ]
        }
      ]
    },
    {
      "cell_type": "code",
      "source": [],
      "metadata": {
        "id": "feZnO4s8kVoV"
      },
      "execution_count": null,
      "outputs": []
    }
  ]
}